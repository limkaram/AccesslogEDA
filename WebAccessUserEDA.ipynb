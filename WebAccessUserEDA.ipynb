{
  "nbformat": 4,
  "nbformat_minor": 0,
  "metadata": {
    "name": "limkaram",
    "kernelspec": {
      "language": "scala",
      "name": "spark2-scala"
    },
    "language_info": {
      "codemirror_mode": "text/x-scala",
      "file_extension": ".scala",
      "mimetype": "text/x-scala",
      "name": "scala",
      "pygments_lexer": "scala"
    },
    "colab": {
      "name": "EDA_v2.ipynb",
      "provenance": [],
      "collapsed_sections": [],
      "toc_visible": true
    }
  },
  "cells": [
    {
      "cell_type": "code",
      "metadata": {
        "colab": {
          "base_uri": "https://localhost:8080/"
        },
        "id": "6pj58DMxR1uz",
        "outputId": "75660db1-0bf4-4dc1-aa00-521322071a7a"
      },
      "source": [
        "from google.colab import drive\n",
        "drive.mount('/content/drive/')"
      ],
      "execution_count": null,
      "outputs": [
        {
          "output_type": "stream",
          "text": [
            "Mounted at /content/drive/\n"
          ],
          "name": "stdout"
        }
      ]
    },
    {
      "cell_type": "code",
      "metadata": {
        "autoscroll": "auto",
        "id": "d2-2owkRRzqM"
      },
      "source": [
        "import pandas as pd\n",
        "import matplotlib.pyplot as plt\n",
        "import warnings\n",
        "\n",
        "warnings.filterwarnings('ignore')\n",
        "pd.set_option('display.max_rows', None)\n",
        "pd.set_option('display.max_columns', None)"
      ],
      "execution_count": null,
      "outputs": []
    },
    {
      "cell_type": "code",
      "metadata": {
        "autoscroll": "auto",
        "id": "vqqQVUkFRzqO"
      },
      "source": [
        "filepath = '/content/drive/MyDrive/AccesslogAnalysis/data/SpecificUserInfo_20201209-20210531.csv'"
      ],
      "execution_count": null,
      "outputs": []
    },
    {
      "cell_type": "code",
      "metadata": {
        "autoscroll": "auto",
        "id": "Z1grVpllRzqO"
      },
      "source": [
        "df = pd.read_csv(filepath, encoding='euc-kr', index_col=0)"
      ],
      "execution_count": null,
      "outputs": []
    },
    {
      "cell_type": "code",
      "metadata": {
        "autoscroll": "auto",
        "colab": {
          "base_uri": "https://localhost:8080/"
        },
        "id": "9EdJzJS_RzqP",
        "outputId": "81b685cf-c6f7-4c9f-cf0d-c7fd6137b475"
      },
      "source": [
        "df.info()"
      ],
      "execution_count": null,
      "outputs": [
        {
          "output_type": "stream",
          "text": [
            "<class 'pandas.core.frame.DataFrame'>\n",
            "Int64Index: 392562 entries, 0 to 2904\n",
            "Data columns (total 18 columns):\n",
            " #   Column                         Non-Null Count   Dtype \n",
            "---  ------                         --------------   ----- \n",
            " 0   user_index                     392562 non-null  int64 \n",
            " 1   ip                             392562 non-null  object\n",
            " 2   first_access_time              392562 non-null  object\n",
            " 3   first_access_location          392561 non-null  object\n",
            " 4   total_request_processing_time  392562 non-null  int64 \n",
            " 5   total_transfer_bytes           392562 non-null  int64 \n",
            " 6   user_agent                     392562 non-null  object\n",
            " 7   os                             392562 non-null  object\n",
            " 8   os_version                     384712 non-null  object\n",
            " 9   browser                        392562 non-null  object\n",
            " 10  browser_version                379360 non-null  object\n",
            " 11  device                         392562 non-null  object\n",
            " 12  device_brand                   299123 non-null  object\n",
            " 13  device_model                   299111 non-null  object\n",
            " 14  total_stay_time                392562 non-null  int64 \n",
            " 15  reservation                    392562 non-null  int64 \n",
            " 16  cancel                         392562 non-null  int64 \n",
            " 17  actions                        392562 non-null  object\n",
            "dtypes: int64(6), object(12)\n",
            "memory usage: 56.9+ MB\n"
          ],
          "name": "stdout"
        }
      ]
    },
    {
      "cell_type": "code",
      "metadata": {
        "autoscroll": "auto",
        "id": "-qqWHoZDRzqP"
      },
      "source": [
        "df.head()"
      ],
      "execution_count": null,
      "outputs": []
    },
    {
      "cell_type": "code",
      "metadata": {
        "autoscroll": "auto",
        "id": "aHysvxnTRzqP"
      },
      "source": [
        "df = df.drop(columns='user_index')"
      ],
      "execution_count": null,
      "outputs": []
    },
    {
      "cell_type": "code",
      "metadata": {
        "autoscroll": "auto",
        "colab": {
          "base_uri": "https://localhost:8080/"
        },
        "id": "8vU_HPn_RzqP",
        "outputId": "d740e4e9-6b54-40b1-80a0-6905dbf6b74e"
      },
      "source": [
        "df.info()"
      ],
      "execution_count": null,
      "outputs": [
        {
          "output_type": "stream",
          "text": [
            "<class 'pandas.core.frame.DataFrame'>\n",
            "Int64Index: 392562 entries, 0 to 2904\n",
            "Data columns (total 17 columns):\n",
            " #   Column                         Non-Null Count   Dtype \n",
            "---  ------                         --------------   ----- \n",
            " 0   ip                             392562 non-null  object\n",
            " 1   first_access_time              392562 non-null  object\n",
            " 2   first_access_location          392561 non-null  object\n",
            " 3   total_request_processing_time  392562 non-null  int64 \n",
            " 4   total_transfer_bytes           392562 non-null  int64 \n",
            " 5   user_agent                     392562 non-null  object\n",
            " 6   os                             392562 non-null  object\n",
            " 7   os_version                     384712 non-null  object\n",
            " 8   browser                        392562 non-null  object\n",
            " 9   browser_version                379360 non-null  object\n",
            " 10  device                         392562 non-null  object\n",
            " 11  device_brand                   299123 non-null  object\n",
            " 12  device_model                   299111 non-null  object\n",
            " 13  total_stay_time                392562 non-null  int64 \n",
            " 14  reservation                    392562 non-null  int64 \n",
            " 15  cancel                         392562 non-null  int64 \n",
            " 16  actions                        392562 non-null  object\n",
            "dtypes: int64(5), object(12)\n",
            "memory usage: 53.9+ MB\n"
          ],
          "name": "stdout"
        }
      ]
    },
    {
      "cell_type": "code",
      "metadata": {
        "autoscroll": "auto",
        "id": "nrI_M-yVRzqQ"
      },
      "source": [
        "df = df.loc[df['first_access_time'] >= '2021-01-05']"
      ],
      "execution_count": null,
      "outputs": []
    },
    {
      "cell_type": "code",
      "metadata": {
        "autoscroll": "auto",
        "id": "YOf1icwXRzqQ"
      },
      "source": [
        "df['first_access_time'] = pd.to_datetime(df['first_access_time'], format='%Y-%m-%d %H:%M:%S')"
      ],
      "execution_count": null,
      "outputs": []
    },
    {
      "cell_type": "code",
      "metadata": {
        "autoscroll": "auto",
        "colab": {
          "base_uri": "https://localhost:8080/"
        },
        "id": "wtIew45gRzqR",
        "outputId": "7e2de8c5-d5c4-4451-e99c-2010dcc2787d"
      },
      "source": [
        "df['first_access_time'].head()"
      ],
      "execution_count": null,
      "outputs": [
        {
          "output_type": "execute_result",
          "data": {
            "text/plain": [
              "0   2021-01-05 00:00:13\n",
              "1   2021-01-05 00:00:21\n",
              "2   2021-01-05 00:00:49\n",
              "3   2021-01-05 00:00:54\n",
              "4   2021-01-05 00:01:15\n",
              "Name: first_access_time, dtype: datetime64[ns]"
            ]
          },
          "metadata": {
            "tags": []
          },
          "execution_count": 12
        }
      ]
    },
    {
      "cell_type": "code",
      "metadata": {
        "autoscroll": "auto",
        "id": "bqw0pVAzRzqR"
      },
      "source": [
        "df['year'] = df['first_access_time'].dt.year\n",
        "df['month'] = df['first_access_time'].dt.month\n",
        "df['weekday'] = df['first_access_time'].dt.weekday\n",
        "df['day'] = df['first_access_time'].dt.day\n",
        "df['hour'] = df['first_access_time'].dt.hour"
      ],
      "execution_count": null,
      "outputs": []
    },
    {
      "cell_type": "code",
      "metadata": {
        "autoscroll": "auto",
        "colab": {
          "base_uri": "https://localhost:8080/"
        },
        "id": "3cjERh1DRzqR",
        "outputId": "6e8e367f-9f65-4939-bc2f-7a8d9a1ffd7f"
      },
      "source": [
        "df.info()"
      ],
      "execution_count": null,
      "outputs": [
        {
          "output_type": "stream",
          "text": [
            "<class 'pandas.core.frame.DataFrame'>\n",
            "Int64Index: 355956 entries, 0 to 2904\n",
            "Data columns (total 23 columns):\n",
            " #   Column                         Non-Null Count   Dtype         \n",
            "---  ------                         --------------   -----         \n",
            " 0   ip                             355956 non-null  object        \n",
            " 1   first_access_time              355956 non-null  datetime64[ns]\n",
            " 2   first_access_location          355955 non-null  object        \n",
            " 3   total_request_processing_time  355956 non-null  int64         \n",
            " 4   total_transfer_bytes           355956 non-null  int64         \n",
            " 5   user_agent                     355956 non-null  object        \n",
            " 6   os                             355956 non-null  object        \n",
            " 7   os_version                     348838 non-null  object        \n",
            " 8   browser                        355956 non-null  object        \n",
            " 9   browser_version                344070 non-null  object        \n",
            " 10  device                         355956 non-null  object        \n",
            " 11  device_brand                   270469 non-null  object        \n",
            " 12  device_model                   270459 non-null  object        \n",
            " 13  total_stay_time                355956 non-null  int64         \n",
            " 14  reservation                    355956 non-null  int64         \n",
            " 15  cancel                         355956 non-null  int64         \n",
            " 16  actions                        355956 non-null  object        \n",
            " 17  year                           355956 non-null  int64         \n",
            " 18  month                          355956 non-null  int64         \n",
            " 19  weekday                        355956 non-null  int64         \n",
            " 20  day                            355956 non-null  int64         \n",
            " 21  hour                           355956 non-null  int64         \n",
            " 22  real_reservation               355956 non-null  bool          \n",
            "dtypes: bool(1), datetime64[ns](1), int64(10), object(11)\n",
            "memory usage: 62.8+ MB\n"
          ],
          "name": "stdout"
        }
      ]
    },
    {
      "cell_type": "code",
      "metadata": {
        "autoscroll": "auto",
        "colab": {
          "base_uri": "https://localhost:8080/",
          "height": 538
        },
        "id": "U0B0I-gaRzqS",
        "outputId": "0007f445-43a1-4a84-b68e-e35ca7b9bd0d"
      },
      "source": [
        "df.head()"
      ],
      "execution_count": null,
      "outputs": [
        {
          "output_type": "execute_result",
          "data": {
            "text/html": [
              "<div>\n",
              "<style scoped>\n",
              "    .dataframe tbody tr th:only-of-type {\n",
              "        vertical-align: middle;\n",
              "    }\n",
              "\n",
              "    .dataframe tbody tr th {\n",
              "        vertical-align: top;\n",
              "    }\n",
              "\n",
              "    .dataframe thead th {\n",
              "        text-align: right;\n",
              "    }\n",
              "</style>\n",
              "<table border=\"1\" class=\"dataframe\">\n",
              "  <thead>\n",
              "    <tr style=\"text-align: right;\">\n",
              "      <th></th>\n",
              "      <th>ip</th>\n",
              "      <th>first_access_time</th>\n",
              "      <th>first_access_location</th>\n",
              "      <th>total_request_processing_time</th>\n",
              "      <th>total_transfer_bytes</th>\n",
              "      <th>user_agent</th>\n",
              "      <th>os</th>\n",
              "      <th>os_version</th>\n",
              "      <th>browser</th>\n",
              "      <th>browser_version</th>\n",
              "      <th>device</th>\n",
              "      <th>device_brand</th>\n",
              "      <th>device_model</th>\n",
              "      <th>total_stay_time</th>\n",
              "      <th>reservation</th>\n",
              "      <th>cancel</th>\n",
              "      <th>actions</th>\n",
              "      <th>year</th>\n",
              "      <th>month</th>\n",
              "      <th>weekday</th>\n",
              "      <th>day</th>\n",
              "      <th>hour</th>\n",
              "    </tr>\n",
              "  </thead>\n",
              "  <tbody>\n",
              "    <tr>\n",
              "      <th>0</th>\n",
              "      <td>112.157.99.240</td>\n",
              "      <td>2021-01-05 00:00:13</td>\n",
              "      <td>포도호텔 모바일 객실예약 마감 여부 체크</td>\n",
              "      <td>4177</td>\n",
              "      <td>41749771</td>\n",
              "      <td>Mozilla/5.0 (Linux; Android 10; SM-G973N Build...</td>\n",
              "      <td>Android</td>\n",
              "      <td>10</td>\n",
              "      <td>Crosswalk</td>\n",
              "      <td>23.69.591</td>\n",
              "      <td>Samsung SM-G973N</td>\n",
              "      <td>Samsung</td>\n",
              "      <td>SM-G973N</td>\n",
              "      <td>54730</td>\n",
              "      <td>0</td>\n",
              "      <td>0</td>\n",
              "      <td>포도호텔 모바일 객실예약 마감 여부 체크 -&gt; 0s -&gt; 포도호텔 모바일 디럭스 한...</td>\n",
              "      <td>2021</td>\n",
              "      <td>1</td>\n",
              "      <td>1</td>\n",
              "      <td>5</td>\n",
              "      <td>0</td>\n",
              "    </tr>\n",
              "    <tr>\n",
              "      <th>1</th>\n",
              "      <td>121.169.34.158</td>\n",
              "      <td>2021-01-05 00:00:21</td>\n",
              "      <td>youtube.com</td>\n",
              "      <td>2251</td>\n",
              "      <td>6305683</td>\n",
              "      <td>Mozilla/5.0 (Linux; Android 10; SM-T866N) Appl...</td>\n",
              "      <td>Android</td>\n",
              "      <td>10</td>\n",
              "      <td>Chrome</td>\n",
              "      <td>87.0.4280</td>\n",
              "      <td>Samsung SM-T866N</td>\n",
              "      <td>Samsung</td>\n",
              "      <td>SM-T866N</td>\n",
              "      <td>1</td>\n",
              "      <td>0</td>\n",
              "      <td>0</td>\n",
              "      <td>youtube.com -&gt; 0s -&gt; 디아넥스 웹 홈페이지 -&gt; 1s -&gt; 디아넥스...</td>\n",
              "      <td>2021</td>\n",
              "      <td>1</td>\n",
              "      <td>1</td>\n",
              "      <td>5</td>\n",
              "      <td>0</td>\n",
              "    </tr>\n",
              "    <tr>\n",
              "      <th>2</th>\n",
              "      <td>218.237.150.132</td>\n",
              "      <td>2021-01-05 00:00:49</td>\n",
              "      <td>디아넥스 웹 홈페이지</td>\n",
              "      <td>813</td>\n",
              "      <td>8421768</td>\n",
              "      <td>Mozilla/5.0 (Windows NT 10.0; Win64; x64; rv:8...</td>\n",
              "      <td>Windows</td>\n",
              "      <td>10</td>\n",
              "      <td>Firefox</td>\n",
              "      <td>84.0</td>\n",
              "      <td>Other</td>\n",
              "      <td>NaN</td>\n",
              "      <td>NaN</td>\n",
              "      <td>30</td>\n",
              "      <td>0</td>\n",
              "      <td>0</td>\n",
              "      <td>디아넥스 웹 홈페이지 -&gt; 4s -&gt; 디아넥스 웹 객실 스위트 B 안내 -&gt; 26s...</td>\n",
              "      <td>2021</td>\n",
              "      <td>1</td>\n",
              "      <td>1</td>\n",
              "      <td>5</td>\n",
              "      <td>0</td>\n",
              "    </tr>\n",
              "    <tr>\n",
              "      <th>3</th>\n",
              "      <td>112.155.115.136</td>\n",
              "      <td>2021-01-05 00:00:54</td>\n",
              "      <td>디아넥스 모바일 레스토랑 메뉴 안내</td>\n",
              "      <td>812</td>\n",
              "      <td>5259980</td>\n",
              "      <td>Mozilla/5.0 (Linux; Android 8.1.0; LM-X415L Bu...</td>\n",
              "      <td>Android</td>\n",
              "      <td>8.1.0</td>\n",
              "      <td>Chrome Mobile WebView</td>\n",
              "      <td>87.0.4280</td>\n",
              "      <td>LM-X415L</td>\n",
              "      <td>Generic_Android</td>\n",
              "      <td>LM-X415L</td>\n",
              "      <td>0</td>\n",
              "      <td>0</td>\n",
              "      <td>0</td>\n",
              "      <td>디아넥스 모바일 레스토랑 메뉴 안내</td>\n",
              "      <td>2021</td>\n",
              "      <td>1</td>\n",
              "      <td>1</td>\n",
              "      <td>5</td>\n",
              "      <td>0</td>\n",
              "    </tr>\n",
              "    <tr>\n",
              "      <th>4</th>\n",
              "      <td>218.234.132.104</td>\n",
              "      <td>2021-01-05 00:01:15</td>\n",
              "      <td>search.naver.com</td>\n",
              "      <td>5180</td>\n",
              "      <td>45184546</td>\n",
              "      <td>Mozilla/5.0 (Windows NT 10.0; Win64; x64) Appl...</td>\n",
              "      <td>Windows</td>\n",
              "      <td>10</td>\n",
              "      <td>Chrome</td>\n",
              "      <td>87.0.4280</td>\n",
              "      <td>Other</td>\n",
              "      <td>NaN</td>\n",
              "      <td>NaN</td>\n",
              "      <td>2054</td>\n",
              "      <td>0</td>\n",
              "      <td>0</td>\n",
              "      <td>search.naver.com -&gt; 0s -&gt; 포도호텔 웹 홈페이지 -&gt; 34s -...</td>\n",
              "      <td>2021</td>\n",
              "      <td>1</td>\n",
              "      <td>1</td>\n",
              "      <td>5</td>\n",
              "      <td>0</td>\n",
              "    </tr>\n",
              "  </tbody>\n",
              "</table>\n",
              "</div>"
            ],
            "text/plain": [
              "                ip   first_access_time   first_access_location  \\\n",
              "0   112.157.99.240 2021-01-05 00:00:13  포도호텔 모바일 객실예약 마감 여부 체크   \n",
              "1   121.169.34.158 2021-01-05 00:00:21             youtube.com   \n",
              "2  218.237.150.132 2021-01-05 00:00:49             디아넥스 웹 홈페이지   \n",
              "3  112.155.115.136 2021-01-05 00:00:54     디아넥스 모바일 레스토랑 메뉴 안내   \n",
              "4  218.234.132.104 2021-01-05 00:01:15        search.naver.com   \n",
              "\n",
              "   total_request_processing_time  total_transfer_bytes  \\\n",
              "0                           4177              41749771   \n",
              "1                           2251               6305683   \n",
              "2                            813               8421768   \n",
              "3                            812               5259980   \n",
              "4                           5180              45184546   \n",
              "\n",
              "                                          user_agent       os os_version  \\\n",
              "0  Mozilla/5.0 (Linux; Android 10; SM-G973N Build...  Android         10   \n",
              "1  Mozilla/5.0 (Linux; Android 10; SM-T866N) Appl...  Android         10   \n",
              "2  Mozilla/5.0 (Windows NT 10.0; Win64; x64; rv:8...  Windows         10   \n",
              "3  Mozilla/5.0 (Linux; Android 8.1.0; LM-X415L Bu...  Android      8.1.0   \n",
              "4  Mozilla/5.0 (Windows NT 10.0; Win64; x64) Appl...  Windows         10   \n",
              "\n",
              "                 browser browser_version            device     device_brand  \\\n",
              "0              Crosswalk       23.69.591  Samsung SM-G973N          Samsung   \n",
              "1                 Chrome       87.0.4280  Samsung SM-T866N          Samsung   \n",
              "2                Firefox            84.0             Other              NaN   \n",
              "3  Chrome Mobile WebView       87.0.4280          LM-X415L  Generic_Android   \n",
              "4                 Chrome       87.0.4280             Other              NaN   \n",
              "\n",
              "  device_model  total_stay_time  reservation  cancel  \\\n",
              "0     SM-G973N            54730            0       0   \n",
              "1     SM-T866N                1            0       0   \n",
              "2          NaN               30            0       0   \n",
              "3     LM-X415L                0            0       0   \n",
              "4          NaN             2054            0       0   \n",
              "\n",
              "                                             actions  year  month  weekday  \\\n",
              "0  포도호텔 모바일 객실예약 마감 여부 체크 -> 0s -> 포도호텔 모바일 디럭스 한...  2021      1        1   \n",
              "1  youtube.com -> 0s -> 디아넥스 웹 홈페이지 -> 1s -> 디아넥스...  2021      1        1   \n",
              "2  디아넥스 웹 홈페이지 -> 4s -> 디아넥스 웹 객실 스위트 B 안내 -> 26s...  2021      1        1   \n",
              "3                                디아넥스 모바일 레스토랑 메뉴 안내  2021      1        1   \n",
              "4  search.naver.com -> 0s -> 포도호텔 웹 홈페이지 -> 34s -...  2021      1        1   \n",
              "\n",
              "   day  hour  \n",
              "0    5     0  \n",
              "1    5     0  \n",
              "2    5     0  \n",
              "3    5     0  \n",
              "4    5     0  "
            ]
          },
          "metadata": {
            "tags": []
          },
          "execution_count": 15
        }
      ]
    },
    {
      "cell_type": "markdown",
      "metadata": {
        "id": "HP4VxkjKRzqS"
      },
      "source": [
        "# 월별"
      ]
    },
    {
      "cell_type": "markdown",
      "metadata": {
        "id": "ocWqB0aFRzqS"
      },
      "source": [
        "## 접속자 현황"
      ]
    },
    {
      "cell_type": "code",
      "metadata": {
        "autoscroll": "auto",
        "colab": {
          "base_uri": "https://localhost:8080/"
        },
        "id": "IObMm2HRRzqS",
        "outputId": "2161d66a-6267-41f5-8b1f-999a2320a5f4"
      },
      "source": [
        "users_num_by_month = df.groupby(by='month').count()['ip']\n",
        "users_num_by_month"
      ],
      "execution_count": null,
      "outputs": [
        {
          "output_type": "execute_result",
          "data": {
            "text/plain": [
              "month\n",
              "1    47716\n",
              "2    71938\n",
              "3    80665\n",
              "4    77576\n",
              "5    78061\n",
              "Name: ip, dtype: int64"
            ]
          },
          "metadata": {
            "tags": []
          },
          "execution_count": 16
        }
      ]
    },
    {
      "cell_type": "code",
      "metadata": {
        "autoscroll": "auto",
        "colab": {
          "base_uri": "https://localhost:8080/"
        },
        "id": "ycn1L2yERzqT",
        "outputId": "ff4c4512-bed6-48b4-d391-bc43736d5645"
      },
      "source": [
        "(df.groupby(by=['month', 'day'], as_index=False)['ip'].count()).groupby(by='month')['ip'].mean()"
      ],
      "execution_count": null,
      "outputs": [
        {
          "output_type": "execute_result",
          "data": {
            "text/plain": [
              "month\n",
              "1    1767.259259\n",
              "2    2569.214286\n",
              "3    2602.096774\n",
              "4    2585.866667\n",
              "5    2518.096774\n",
              "Name: ip, dtype: float64"
            ]
          },
          "metadata": {
            "tags": []
          },
          "execution_count": 17
        }
      ]
    },
    {
      "cell_type": "markdown",
      "metadata": {
        "id": "c_oDZgCLRzqT"
      },
      "source": [
        " 1. 1월은 일 평균 약 1700명의 접속자가 있으며, 다른 달 대비 약 1000명 적음\n",
        " 2. 일 평균 약 2500명 이상의 접속자가 있으며, 1월에는 01/01~01/04의 4일분 데이터를 평균 접속자수로 채워넣어도 다른 월 대비 약 10000명 이상 접속자가 적음\n",
        " 3. 따라서 시스템적 문제로 인해 4일분의 Tomcat 로그 파일이 미수집되었고, 접속자 자체가 1월에는 적었다고 판단됨\n",
        " 4. 따라서 1월 전체 데이터를 미사용하고 2월~5월 분의 데이터만 활용하거나 1월 평균 접속자수를 결측되는 4일분의 데이터로 활용하는 것이 어떨까 싶음"
      ]
    },
    {
      "cell_type": "markdown",
      "metadata": {
        "id": "8o1mYrAURzqT"
      },
      "source": [
        "## 접속자 추이"
      ]
    },
    {
      "cell_type": "code",
      "metadata": {
        "autoscroll": "auto",
        "id": "fJ0Y0wVrRzqT"
      },
      "source": [
        "plt.figure(figsize=(10, 8))\n",
        "plt.plot(users_num_by_month)\n",
        "plt.grid()\n",
        "plt.xlabel('month', fontsize=13)\n",
        "plt.ylabel('users_num', fontsize=13)\n",
        "plt.xticks(range(1, max(users_num_by_month.index)+1))\n",
        "plt.tight_layout()\n",
        "plt.show()"
      ],
      "execution_count": null,
      "outputs": []
    },
    {
      "cell_type": "code",
      "metadata": {
        "autoscroll": "auto",
        "id": "tVcXMO3bRzqT"
      },
      "source": [
        "(df.groupby(by=['month', 'day']).count()['ip']).groupby('month').mean()"
      ],
      "execution_count": null,
      "outputs": []
    },
    {
      "cell_type": "markdown",
      "metadata": {
        "id": "r1gq3J5oRzqU"
      },
      "source": [
        " 1. 3월의 접속자 수가 가장 많음\n",
        " 2. 1월은 시스템적 문제와 4일 적재가 부족하여 총량이 적게 나옴(?) - 원인파악필요\n",
        " 3. 3월의 접속자 수가 약 8만명, 2월의 접속자 수는 약 7.2만명으로 2월 대비 3월이 8천명 많은 접속을 보임\n",
        " 4. 그러나, 일평균 접속자수는 약 2500~2600명 수준으로 큰 차이는 없음"
      ]
    },
    {
      "cell_type": "markdown",
      "metadata": {
        "id": "pW9UsIgqRzqU"
      },
      "source": [
        "## 예약자 현황"
      ]
    },
    {
      "cell_type": "code",
      "metadata": {
        "autoscroll": "auto",
        "colab": {
          "base_uri": "https://localhost:8080/",
          "height": 202
        },
        "id": "PonuhXTGRzqU",
        "outputId": "21c9a890-c9af-4d58-d261-9e882a3e38e3"
      },
      "source": [
        "db_df = pd.read_csv('/content/drive/MyDrive/AccesslogAnalysis/data/DBreservation_table.csv')\n",
        "db_df.head()"
      ],
      "execution_count": null,
      "outputs": [
        {
          "output_type": "execute_result",
          "data": {
            "text/html": [
              "<div>\n",
              "<style scoped>\n",
              "    .dataframe tbody tr th:only-of-type {\n",
              "        vertical-align: middle;\n",
              "    }\n",
              "\n",
              "    .dataframe tbody tr th {\n",
              "        vertical-align: top;\n",
              "    }\n",
              "\n",
              "    .dataframe thead th {\n",
              "        text-align: right;\n",
              "    }\n",
              "</style>\n",
              "<table border=\"1\" class=\"dataframe\">\n",
              "  <thead>\n",
              "    <tr style=\"text-align: right;\">\n",
              "      <th></th>\n",
              "      <th>reserve_num</th>\n",
              "      <th>insert_date</th>\n",
              "      <th>hotel_name</th>\n",
              "      <th>status</th>\n",
              "    </tr>\n",
              "  </thead>\n",
              "  <tbody>\n",
              "    <tr>\n",
              "      <th>0</th>\n",
              "      <td>P210101387</td>\n",
              "      <td>2021-01-01 01:42:22</td>\n",
              "      <td>THEANNEX</td>\n",
              "      <td>canceled</td>\n",
              "    </tr>\n",
              "    <tr>\n",
              "      <th>1</th>\n",
              "      <td>P210101388</td>\n",
              "      <td>2021-01-01 09:01:59</td>\n",
              "      <td>PODO</td>\n",
              "      <td>canceled</td>\n",
              "    </tr>\n",
              "    <tr>\n",
              "      <th>2</th>\n",
              "      <td>P210101389</td>\n",
              "      <td>2021-01-01 09:02:45</td>\n",
              "      <td>PODO</td>\n",
              "      <td>canceled</td>\n",
              "    </tr>\n",
              "    <tr>\n",
              "      <th>3</th>\n",
              "      <td>P210101390</td>\n",
              "      <td>2021-01-01 09:05:13</td>\n",
              "      <td>PODO</td>\n",
              "      <td>canceled</td>\n",
              "    </tr>\n",
              "    <tr>\n",
              "      <th>4</th>\n",
              "      <td>P210101391</td>\n",
              "      <td>2021-01-01 09:10:42</td>\n",
              "      <td>PODO</td>\n",
              "      <td>canceled</td>\n",
              "    </tr>\n",
              "  </tbody>\n",
              "</table>\n",
              "</div>"
            ],
            "text/plain": [
              "  reserve_num          insert_date hotel_name    status\n",
              "0  P210101387  2021-01-01 01:42:22   THEANNEX  canceled\n",
              "1  P210101388  2021-01-01 09:01:59       PODO  canceled\n",
              "2  P210101389  2021-01-01 09:02:45       PODO  canceled\n",
              "3  P210101390  2021-01-01 09:05:13       PODO  canceled\n",
              "4  P210101391  2021-01-01 09:10:42       PODO  canceled"
            ]
          },
          "metadata": {
            "tags": []
          },
          "execution_count": 18
        }
      ]
    },
    {
      "cell_type": "code",
      "metadata": {
        "autoscroll": "auto",
        "colab": {
          "base_uri": "https://localhost:8080/"
        },
        "id": "QqciP75zRzqU",
        "outputId": "cdaafdfe-e546-4b59-fa21-430eb2778e21"
      },
      "source": [
        "db_df.info()"
      ],
      "execution_count": null,
      "outputs": [
        {
          "output_type": "stream",
          "text": [
            "<class 'pandas.core.frame.DataFrame'>\n",
            "RangeIndex: 1678 entries, 0 to 1677\n",
            "Data columns (total 4 columns):\n",
            " #   Column       Non-Null Count  Dtype \n",
            "---  ------       --------------  ----- \n",
            " 0   reserve_num  1678 non-null   object\n",
            " 1   insert_date  1678 non-null   object\n",
            " 2   hotel_name   1678 non-null   object\n",
            " 3   status       1678 non-null   object\n",
            "dtypes: object(4)\n",
            "memory usage: 52.6+ KB\n"
          ],
          "name": "stdout"
        }
      ]
    },
    {
      "cell_type": "code",
      "metadata": {
        "autoscroll": "auto",
        "colab": {
          "base_uri": "https://localhost:8080/",
          "height": 202
        },
        "id": "HhLnY_5JRzqU",
        "outputId": "65c48110-6be6-4c6a-9cd6-3b48916a46d6"
      },
      "source": [
        "db_df['insert_date'] = db_df.loc[db_df['insert_date'] >= '2021-01-05', 'insert_date']\n",
        "db_df.head()"
      ],
      "execution_count": null,
      "outputs": [
        {
          "output_type": "execute_result",
          "data": {
            "text/html": [
              "<div>\n",
              "<style scoped>\n",
              "    .dataframe tbody tr th:only-of-type {\n",
              "        vertical-align: middle;\n",
              "    }\n",
              "\n",
              "    .dataframe tbody tr th {\n",
              "        vertical-align: top;\n",
              "    }\n",
              "\n",
              "    .dataframe thead th {\n",
              "        text-align: right;\n",
              "    }\n",
              "</style>\n",
              "<table border=\"1\" class=\"dataframe\">\n",
              "  <thead>\n",
              "    <tr style=\"text-align: right;\">\n",
              "      <th></th>\n",
              "      <th>reserve_num</th>\n",
              "      <th>insert_date</th>\n",
              "      <th>hotel_name</th>\n",
              "      <th>status</th>\n",
              "    </tr>\n",
              "  </thead>\n",
              "  <tbody>\n",
              "    <tr>\n",
              "      <th>0</th>\n",
              "      <td>P210101387</td>\n",
              "      <td>NaN</td>\n",
              "      <td>THEANNEX</td>\n",
              "      <td>canceled</td>\n",
              "    </tr>\n",
              "    <tr>\n",
              "      <th>1</th>\n",
              "      <td>P210101388</td>\n",
              "      <td>NaN</td>\n",
              "      <td>PODO</td>\n",
              "      <td>canceled</td>\n",
              "    </tr>\n",
              "    <tr>\n",
              "      <th>2</th>\n",
              "      <td>P210101389</td>\n",
              "      <td>NaN</td>\n",
              "      <td>PODO</td>\n",
              "      <td>canceled</td>\n",
              "    </tr>\n",
              "    <tr>\n",
              "      <th>3</th>\n",
              "      <td>P210101390</td>\n",
              "      <td>NaN</td>\n",
              "      <td>PODO</td>\n",
              "      <td>canceled</td>\n",
              "    </tr>\n",
              "    <tr>\n",
              "      <th>4</th>\n",
              "      <td>P210101391</td>\n",
              "      <td>NaN</td>\n",
              "      <td>PODO</td>\n",
              "      <td>canceled</td>\n",
              "    </tr>\n",
              "  </tbody>\n",
              "</table>\n",
              "</div>"
            ],
            "text/plain": [
              "  reserve_num insert_date hotel_name    status\n",
              "0  P210101387         NaN   THEANNEX  canceled\n",
              "1  P210101388         NaN       PODO  canceled\n",
              "2  P210101389         NaN       PODO  canceled\n",
              "3  P210101390         NaN       PODO  canceled\n",
              "4  P210101391         NaN       PODO  canceled"
            ]
          },
          "metadata": {
            "tags": []
          },
          "execution_count": 20
        }
      ]
    },
    {
      "cell_type": "code",
      "metadata": {
        "autoscroll": "auto",
        "colab": {
          "base_uri": "https://localhost:8080/",
          "height": 202
        },
        "id": "sjOh55x5RzqV",
        "outputId": "a8fa22c3-70b1-4df9-a60d-a745c628eaab"
      },
      "source": [
        "db_df = db_df.dropna(axis=0).reset_index(drop=True)\n",
        "db_df.head()"
      ],
      "execution_count": null,
      "outputs": [
        {
          "output_type": "execute_result",
          "data": {
            "text/html": [
              "<div>\n",
              "<style scoped>\n",
              "    .dataframe tbody tr th:only-of-type {\n",
              "        vertical-align: middle;\n",
              "    }\n",
              "\n",
              "    .dataframe tbody tr th {\n",
              "        vertical-align: top;\n",
              "    }\n",
              "\n",
              "    .dataframe thead th {\n",
              "        text-align: right;\n",
              "    }\n",
              "</style>\n",
              "<table border=\"1\" class=\"dataframe\">\n",
              "  <thead>\n",
              "    <tr style=\"text-align: right;\">\n",
              "      <th></th>\n",
              "      <th>reserve_num</th>\n",
              "      <th>insert_date</th>\n",
              "      <th>hotel_name</th>\n",
              "      <th>status</th>\n",
              "    </tr>\n",
              "  </thead>\n",
              "  <tbody>\n",
              "    <tr>\n",
              "      <th>0</th>\n",
              "      <td>P210105417</td>\n",
              "      <td>2021-01-05 14:40:42</td>\n",
              "      <td>PODO</td>\n",
              "      <td>confirmed</td>\n",
              "    </tr>\n",
              "    <tr>\n",
              "      <th>1</th>\n",
              "      <td>P210105418</td>\n",
              "      <td>2021-01-05 14:52:48</td>\n",
              "      <td>PODO</td>\n",
              "      <td>canceled</td>\n",
              "    </tr>\n",
              "    <tr>\n",
              "      <th>2</th>\n",
              "      <td>P210105419</td>\n",
              "      <td>2021-01-05 15:49:49</td>\n",
              "      <td>THEANNEX</td>\n",
              "      <td>confirmed</td>\n",
              "    </tr>\n",
              "    <tr>\n",
              "      <th>3</th>\n",
              "      <td>P210105420</td>\n",
              "      <td>2021-01-05 22:25:20</td>\n",
              "      <td>THEANNEX</td>\n",
              "      <td>canceled</td>\n",
              "    </tr>\n",
              "    <tr>\n",
              "      <th>4</th>\n",
              "      <td>P210106421</td>\n",
              "      <td>2021-01-06 08:22:51</td>\n",
              "      <td>PODO</td>\n",
              "      <td>confirmed</td>\n",
              "    </tr>\n",
              "  </tbody>\n",
              "</table>\n",
              "</div>"
            ],
            "text/plain": [
              "  reserve_num          insert_date hotel_name     status\n",
              "0  P210105417  2021-01-05 14:40:42       PODO  confirmed\n",
              "1  P210105418  2021-01-05 14:52:48       PODO   canceled\n",
              "2  P210105419  2021-01-05 15:49:49   THEANNEX  confirmed\n",
              "3  P210105420  2021-01-05 22:25:20   THEANNEX   canceled\n",
              "4  P210106421  2021-01-06 08:22:51       PODO  confirmed"
            ]
          },
          "metadata": {
            "tags": []
          },
          "execution_count": 21
        }
      ]
    },
    {
      "cell_type": "code",
      "metadata": {
        "autoscroll": "auto",
        "colab": {
          "base_uri": "https://localhost:8080/",
          "height": 202
        },
        "id": "ky9qOS0wRzqV",
        "outputId": "82a6c006-e15f-4d8c-f7f0-bf3be104dd4d"
      },
      "source": [
        "db_df['year'] = pd.to_datetime(db_df['insert_date']).dt.year\n",
        "db_df['month'] = pd.to_datetime(db_df['insert_date']).dt.month\n",
        "db_df['weekday'] = pd.to_datetime(db_df['insert_date']).dt.weekday\n",
        "db_df['day'] = pd.to_datetime(db_df['insert_date']).dt.day\n",
        "db_df['hour'] = pd.to_datetime(db_df['insert_date']).dt.hour\n",
        "db_df.head()"
      ],
      "execution_count": null,
      "outputs": [
        {
          "output_type": "execute_result",
          "data": {
            "text/html": [
              "<div>\n",
              "<style scoped>\n",
              "    .dataframe tbody tr th:only-of-type {\n",
              "        vertical-align: middle;\n",
              "    }\n",
              "\n",
              "    .dataframe tbody tr th {\n",
              "        vertical-align: top;\n",
              "    }\n",
              "\n",
              "    .dataframe thead th {\n",
              "        text-align: right;\n",
              "    }\n",
              "</style>\n",
              "<table border=\"1\" class=\"dataframe\">\n",
              "  <thead>\n",
              "    <tr style=\"text-align: right;\">\n",
              "      <th></th>\n",
              "      <th>reserve_num</th>\n",
              "      <th>insert_date</th>\n",
              "      <th>hotel_name</th>\n",
              "      <th>status</th>\n",
              "      <th>year</th>\n",
              "      <th>month</th>\n",
              "      <th>weekday</th>\n",
              "      <th>day</th>\n",
              "      <th>hour</th>\n",
              "    </tr>\n",
              "  </thead>\n",
              "  <tbody>\n",
              "    <tr>\n",
              "      <th>0</th>\n",
              "      <td>P210105417</td>\n",
              "      <td>2021-01-05 14:40:42</td>\n",
              "      <td>PODO</td>\n",
              "      <td>confirmed</td>\n",
              "      <td>2021</td>\n",
              "      <td>1</td>\n",
              "      <td>1</td>\n",
              "      <td>5</td>\n",
              "      <td>14</td>\n",
              "    </tr>\n",
              "    <tr>\n",
              "      <th>1</th>\n",
              "      <td>P210105418</td>\n",
              "      <td>2021-01-05 14:52:48</td>\n",
              "      <td>PODO</td>\n",
              "      <td>canceled</td>\n",
              "      <td>2021</td>\n",
              "      <td>1</td>\n",
              "      <td>1</td>\n",
              "      <td>5</td>\n",
              "      <td>14</td>\n",
              "    </tr>\n",
              "    <tr>\n",
              "      <th>2</th>\n",
              "      <td>P210105419</td>\n",
              "      <td>2021-01-05 15:49:49</td>\n",
              "      <td>THEANNEX</td>\n",
              "      <td>confirmed</td>\n",
              "      <td>2021</td>\n",
              "      <td>1</td>\n",
              "      <td>1</td>\n",
              "      <td>5</td>\n",
              "      <td>15</td>\n",
              "    </tr>\n",
              "    <tr>\n",
              "      <th>3</th>\n",
              "      <td>P210105420</td>\n",
              "      <td>2021-01-05 22:25:20</td>\n",
              "      <td>THEANNEX</td>\n",
              "      <td>canceled</td>\n",
              "      <td>2021</td>\n",
              "      <td>1</td>\n",
              "      <td>1</td>\n",
              "      <td>5</td>\n",
              "      <td>22</td>\n",
              "    </tr>\n",
              "    <tr>\n",
              "      <th>4</th>\n",
              "      <td>P210106421</td>\n",
              "      <td>2021-01-06 08:22:51</td>\n",
              "      <td>PODO</td>\n",
              "      <td>confirmed</td>\n",
              "      <td>2021</td>\n",
              "      <td>1</td>\n",
              "      <td>2</td>\n",
              "      <td>6</td>\n",
              "      <td>8</td>\n",
              "    </tr>\n",
              "  </tbody>\n",
              "</table>\n",
              "</div>"
            ],
            "text/plain": [
              "  reserve_num          insert_date hotel_name     status  year  month  \\\n",
              "0  P210105417  2021-01-05 14:40:42       PODO  confirmed  2021      1   \n",
              "1  P210105418  2021-01-05 14:52:48       PODO   canceled  2021      1   \n",
              "2  P210105419  2021-01-05 15:49:49   THEANNEX  confirmed  2021      1   \n",
              "3  P210105420  2021-01-05 22:25:20   THEANNEX   canceled  2021      1   \n",
              "4  P210106421  2021-01-06 08:22:51       PODO  confirmed  2021      1   \n",
              "\n",
              "   weekday  day  hour  \n",
              "0        1    5    14  \n",
              "1        1    5    14  \n",
              "2        1    5    15  \n",
              "3        1    5    22  \n",
              "4        2    6     8  "
            ]
          },
          "metadata": {
            "tags": []
          },
          "execution_count": 211
        }
      ]
    },
    {
      "cell_type": "code",
      "metadata": {
        "autoscroll": "auto",
        "colab": {
          "base_uri": "https://localhost:8080/"
        },
        "id": "dj8ws2HLRzqV",
        "outputId": "5410413b-eb61-45f4-d831-4b2058819129"
      },
      "source": [
        "db_df.groupby('month').count()['reserve_num']"
      ],
      "execution_count": null,
      "outputs": [
        {
          "output_type": "execute_result",
          "data": {
            "text/plain": [
              "month\n",
              "1    119\n",
              "2    285\n",
              "3    402\n",
              "4    392\n",
              "5    450\n",
              "Name: reserve_num, dtype: int64"
            ]
          },
          "metadata": {
            "tags": []
          },
          "execution_count": 43
        }
      ]
    },
    {
      "cell_type": "code",
      "metadata": {
        "colab": {
          "base_uri": "https://localhost:8080/"
        },
        "id": "fGYxMDgSY3aI",
        "outputId": "2418724b-4245-48b8-dece-1cbdee4282ba"
      },
      "source": [
        "df.groupby('month').sum()['reservation']"
      ],
      "execution_count": null,
      "outputs": [
        {
          "output_type": "execute_result",
          "data": {
            "text/plain": [
              "month\n",
              "1     807\n",
              "2    1832\n",
              "3    2427\n",
              "4    2460\n",
              "5    2320\n",
              "Name: reservation, dtype: int64"
            ]
          },
          "metadata": {
            "tags": []
          },
          "execution_count": 34
        }
      ]
    },
    {
      "cell_type": "code",
      "metadata": {
        "autoscroll": "auto",
        "id": "yUnK_ZHQRzqV"
      },
      "source": [
        "df['real_reservation'] = df['actions'].apply(lambda x: True if '객실예약 완료' in x else False)"
      ],
      "execution_count": null,
      "outputs": []
    },
    {
      "cell_type": "code",
      "metadata": {
        "autoscroll": "auto",
        "colab": {
          "base_uri": "https://localhost:8080/"
        },
        "id": "D52bBxmRRzqV",
        "outputId": "61ff9d1a-43b8-4d09-de93-f00064e3ba9a"
      },
      "source": [
        "df.groupby('month').sum()['real_reservation']"
      ],
      "execution_count": null,
      "outputs": [
        {
          "output_type": "execute_result",
          "data": {
            "text/plain": [
              "month\n",
              "1    123\n",
              "2    268\n",
              "3    376\n",
              "4    376\n",
              "5    430\n",
              "Name: real_reservation, dtype: int64"
            ]
          },
          "metadata": {
            "tags": []
          },
          "execution_count": 32
        }
      ]
    },
    {
      "cell_type": "code",
      "metadata": {
        "colab": {
          "base_uri": "https://localhost:8080/",
          "height": 232
        },
        "id": "IKiLdpC6am72",
        "outputId": "9f1a09bc-8000-48ff-a96e-0240cba73011"
      },
      "source": [
        "tmp_ = pd.concat([db_df.groupby('month').count()['reserve_num'], df.groupby('month').sum()['real_reservation']], axis=1)\n",
        "tmp_.columns = ['db_reserv_num', 'accesslog_reserv_num']\n",
        "tmp_"
      ],
      "execution_count": null,
      "outputs": [
        {
          "output_type": "execute_result",
          "data": {
            "text/html": [
              "<div>\n",
              "<style scoped>\n",
              "    .dataframe tbody tr th:only-of-type {\n",
              "        vertical-align: middle;\n",
              "    }\n",
              "\n",
              "    .dataframe tbody tr th {\n",
              "        vertical-align: top;\n",
              "    }\n",
              "\n",
              "    .dataframe thead th {\n",
              "        text-align: right;\n",
              "    }\n",
              "</style>\n",
              "<table border=\"1\" class=\"dataframe\">\n",
              "  <thead>\n",
              "    <tr style=\"text-align: right;\">\n",
              "      <th></th>\n",
              "      <th>db_reserv_num</th>\n",
              "      <th>accesslog_reserv_num</th>\n",
              "    </tr>\n",
              "    <tr>\n",
              "      <th>month</th>\n",
              "      <th></th>\n",
              "      <th></th>\n",
              "    </tr>\n",
              "  </thead>\n",
              "  <tbody>\n",
              "    <tr>\n",
              "      <th>1</th>\n",
              "      <td>119</td>\n",
              "      <td>123</td>\n",
              "    </tr>\n",
              "    <tr>\n",
              "      <th>2</th>\n",
              "      <td>285</td>\n",
              "      <td>268</td>\n",
              "    </tr>\n",
              "    <tr>\n",
              "      <th>3</th>\n",
              "      <td>402</td>\n",
              "      <td>376</td>\n",
              "    </tr>\n",
              "    <tr>\n",
              "      <th>4</th>\n",
              "      <td>392</td>\n",
              "      <td>376</td>\n",
              "    </tr>\n",
              "    <tr>\n",
              "      <th>5</th>\n",
              "      <td>450</td>\n",
              "      <td>430</td>\n",
              "    </tr>\n",
              "  </tbody>\n",
              "</table>\n",
              "</div>"
            ],
            "text/plain": [
              "       db_reserv_num  accesslog_reserv_num\n",
              "month                                     \n",
              "1                119                   123\n",
              "2                285                   268\n",
              "3                402                   376\n",
              "4                392                   376\n",
              "5                450                   430"
            ]
          },
          "metadata": {
            "tags": []
          },
          "execution_count": 55
        }
      ]
    },
    {
      "cell_type": "code",
      "metadata": {
        "colab": {
          "base_uri": "https://localhost:8080/",
          "height": 606
        },
        "id": "aol0xnwXZkQ2",
        "outputId": "be36bc70-ccb4-4af7-90f7-5e2a59c68fc3"
      },
      "source": [
        "plt.figure(figsize=(16, 10))\n",
        "plt.subplot(1,2,1)\n",
        "plt.plot(df.groupby('month').sum()['real_reservation'])\n",
        "plt.xticks(range(1, 6, 1))\n",
        "plt.title('accesslog reservation')\n",
        "\n",
        "plt.subplot(1,2,2)\n",
        "plt.plot(db_df.groupby('month').count()['reserve_num'])\n",
        "plt.xticks(range(1, 6, 1))\n",
        "plt.title('db reservation')\n",
        "plt.show()"
      ],
      "execution_count": null,
      "outputs": [
        {
          "output_type": "display_data",
          "data": {
            "image/png": "[encoded data removed]",
            "text/plain": [
              "<Figure size 1152x720 with 2 Axes>"
            ]
          },
          "metadata": {
            "tags": [],
            "needs_background": "light"
          }
        }
      ]
    },
    {
      "cell_type": "markdown",
      "metadata": {
        "id": "3TTeocIFRzqV"
      },
      "source": [
        " 1. 현재 accesslog reservation 의 예약자 수와 실제 DB 예약자 수와는 차이가 큼\n",
        " 2. 적용한 예약자 룰('예약 완료' or '예약 결제' String)이 틀린것으로 보임\n",
        " 3. '객실예약 완료'를 예약자라고 하였을 경우 실제 DB 예약자 수와 비슷한 수치를 보임\n",
        " 4. 룰 변경이 필요할 것으로 판단 됨\n",
        " 5. 관리자가 직접 예약을 취소한 경우에는 Accesslog에서 발췌가 불가"
      ]
    },
    {
      "cell_type": "markdown",
      "metadata": {
        "id": "6jX3EeoXIRh2"
      },
      "source": [
        "## 호텔별 예약자 추이"
      ]
    },
    {
      "cell_type": "code",
      "metadata": {
        "colab": {
          "base_uri": "https://localhost:8080/"
        },
        "id": "pgfkNx__ITyp",
        "outputId": "420a1570-1ae0-4c4f-9bb7-a229ce3d9056"
      },
      "source": [
        "db_df['hotel_name'].unique()"
      ],
      "execution_count": null,
      "outputs": [
        {
          "output_type": "execute_result",
          "data": {
            "text/plain": [
              "array(['PODO', 'THEANNEX'], dtype=object)"
            ]
          },
          "metadata": {
            "tags": []
          },
          "execution_count": 76
        }
      ]
    },
    {
      "cell_type": "code",
      "metadata": {
        "colab": {
          "base_uri": "https://localhost:8080/"
        },
        "id": "xR2QlgL_IQ2y",
        "outputId": "4fa134f0-28fb-464c-b106-a430ad18a8c3"
      },
      "source": [
        "db_df['hotel_name'].value_counts()"
      ],
      "execution_count": null,
      "outputs": [
        {
          "output_type": "execute_result",
          "data": {
            "text/plain": [
              "PODO        865\n",
              "THEANNEX    783\n",
              "Name: hotel_name, dtype: int64"
            ]
          },
          "metadata": {
            "tags": []
          },
          "execution_count": 77
        }
      ]
    },
    {
      "cell_type": "code",
      "metadata": {
        "colab": {
          "base_uri": "https://localhost:8080/",
          "height": 385
        },
        "id": "zT7_RcziJuE6",
        "outputId": "bcb7edca-befc-4c41-8e97-99a48f94b0cc"
      },
      "source": [
        "db_df.groupby(['month', 'hotel_name']).count()[['reserve_num']]"
      ],
      "execution_count": null,
      "outputs": [
        {
          "output_type": "execute_result",
          "data": {
            "text/html": [
              "<div>\n",
              "<style scoped>\n",
              "    .dataframe tbody tr th:only-of-type {\n",
              "        vertical-align: middle;\n",
              "    }\n",
              "\n",
              "    .dataframe tbody tr th {\n",
              "        vertical-align: top;\n",
              "    }\n",
              "\n",
              "    .dataframe thead th {\n",
              "        text-align: right;\n",
              "    }\n",
              "</style>\n",
              "<table border=\"1\" class=\"dataframe\">\n",
              "  <thead>\n",
              "    <tr style=\"text-align: right;\">\n",
              "      <th></th>\n",
              "      <th></th>\n",
              "      <th>reserve_num</th>\n",
              "    </tr>\n",
              "    <tr>\n",
              "      <th>month</th>\n",
              "      <th>hotel_name</th>\n",
              "      <th></th>\n",
              "    </tr>\n",
              "  </thead>\n",
              "  <tbody>\n",
              "    <tr>\n",
              "      <th rowspan=\"2\" valign=\"top\">1</th>\n",
              "      <th>PODO</th>\n",
              "      <td>35</td>\n",
              "    </tr>\n",
              "    <tr>\n",
              "      <th>THEANNEX</th>\n",
              "      <td>84</td>\n",
              "    </tr>\n",
              "    <tr>\n",
              "      <th rowspan=\"2\" valign=\"top\">2</th>\n",
              "      <th>PODO</th>\n",
              "      <td>137</td>\n",
              "    </tr>\n",
              "    <tr>\n",
              "      <th>THEANNEX</th>\n",
              "      <td>148</td>\n",
              "    </tr>\n",
              "    <tr>\n",
              "      <th rowspan=\"2\" valign=\"top\">3</th>\n",
              "      <th>PODO</th>\n",
              "      <td>218</td>\n",
              "    </tr>\n",
              "    <tr>\n",
              "      <th>THEANNEX</th>\n",
              "      <td>184</td>\n",
              "    </tr>\n",
              "    <tr>\n",
              "      <th rowspan=\"2\" valign=\"top\">4</th>\n",
              "      <th>PODO</th>\n",
              "      <td>220</td>\n",
              "    </tr>\n",
              "    <tr>\n",
              "      <th>THEANNEX</th>\n",
              "      <td>172</td>\n",
              "    </tr>\n",
              "    <tr>\n",
              "      <th rowspan=\"2\" valign=\"top\">5</th>\n",
              "      <th>PODO</th>\n",
              "      <td>255</td>\n",
              "    </tr>\n",
              "    <tr>\n",
              "      <th>THEANNEX</th>\n",
              "      <td>195</td>\n",
              "    </tr>\n",
              "  </tbody>\n",
              "</table>\n",
              "</div>"
            ],
            "text/plain": [
              "                  reserve_num\n",
              "month hotel_name             \n",
              "1     PODO                 35\n",
              "      THEANNEX             84\n",
              "2     PODO                137\n",
              "      THEANNEX            148\n",
              "3     PODO                218\n",
              "      THEANNEX            184\n",
              "4     PODO                220\n",
              "      THEANNEX            172\n",
              "5     PODO                255\n",
              "      THEANNEX            195"
            ]
          },
          "metadata": {
            "tags": []
          },
          "execution_count": 85
        }
      ]
    },
    {
      "cell_type": "code",
      "metadata": {
        "autoscroll": "auto",
        "colab": {
          "base_uri": "https://localhost:8080/",
          "height": 232
        },
        "id": "v2WY8TSKRzqW",
        "outputId": "5e0ef669-59f5-45fb-d1cc-f7c39ece62f8"
      },
      "source": [
        "podo_df = pd.DataFrame()\n",
        "podo_df['reserve_users'] = db_df[db_df['hotel_name'] == 'PODO'].groupby('month').count()['reserve_num']\n",
        "podo_df['access_users'] = df.groupby('month').count()['ip']\n",
        "podo_df['reserve_rate'] = podo_df['reserve_users'] / podo_df['access_users']\n",
        "podo_df"
      ],
      "execution_count": null,
      "outputs": [
        {
          "output_type": "execute_result",
          "data": {
            "text/html": [
              "<div>\n",
              "<style scoped>\n",
              "    .dataframe tbody tr th:only-of-type {\n",
              "        vertical-align: middle;\n",
              "    }\n",
              "\n",
              "    .dataframe tbody tr th {\n",
              "        vertical-align: top;\n",
              "    }\n",
              "\n",
              "    .dataframe thead th {\n",
              "        text-align: right;\n",
              "    }\n",
              "</style>\n",
              "<table border=\"1\" class=\"dataframe\">\n",
              "  <thead>\n",
              "    <tr style=\"text-align: right;\">\n",
              "      <th></th>\n",
              "      <th>reserve_users</th>\n",
              "      <th>access_users</th>\n",
              "      <th>reserve_rate</th>\n",
              "    </tr>\n",
              "    <tr>\n",
              "      <th>month</th>\n",
              "      <th></th>\n",
              "      <th></th>\n",
              "      <th></th>\n",
              "    </tr>\n",
              "  </thead>\n",
              "  <tbody>\n",
              "    <tr>\n",
              "      <th>1</th>\n",
              "      <td>35</td>\n",
              "      <td>47716</td>\n",
              "      <td>0.000734</td>\n",
              "    </tr>\n",
              "    <tr>\n",
              "      <th>2</th>\n",
              "      <td>137</td>\n",
              "      <td>71938</td>\n",
              "      <td>0.001904</td>\n",
              "    </tr>\n",
              "    <tr>\n",
              "      <th>3</th>\n",
              "      <td>218</td>\n",
              "      <td>80665</td>\n",
              "      <td>0.002703</td>\n",
              "    </tr>\n",
              "    <tr>\n",
              "      <th>4</th>\n",
              "      <td>220</td>\n",
              "      <td>77576</td>\n",
              "      <td>0.002836</td>\n",
              "    </tr>\n",
              "    <tr>\n",
              "      <th>5</th>\n",
              "      <td>255</td>\n",
              "      <td>78061</td>\n",
              "      <td>0.003267</td>\n",
              "    </tr>\n",
              "  </tbody>\n",
              "</table>\n",
              "</div>"
            ],
            "text/plain": [
              "       reserve_users  access_users  reserve_rate\n",
              "month                                           \n",
              "1                 35         47716      0.000734\n",
              "2                137         71938      0.001904\n",
              "3                218         80665      0.002703\n",
              "4                220         77576      0.002836\n",
              "5                255         78061      0.003267"
            ]
          },
          "metadata": {
            "tags": []
          },
          "execution_count": 113
        }
      ]
    },
    {
      "cell_type": "code",
      "metadata": {
        "colab": {
          "base_uri": "https://localhost:8080/",
          "height": 232
        },
        "id": "gW92qBlAJixY",
        "outputId": "babff8e7-0e25-4ba0-b501-0d14d7999473"
      },
      "source": [
        "annex_df = pd.DataFrame()\n",
        "annex_df['reserve_users'] = db_df[db_df['hotel_name'] == 'THEANNEX'].groupby('month').count()['reserve_num']\n",
        "annex_df['access_users'] = df.groupby('month').count()['ip']\n",
        "annex_df['reserve_rate'] = annex_df['reserve_users'] / annex_df['access_users']\n",
        "annex_df"
      ],
      "execution_count": null,
      "outputs": [
        {
          "output_type": "execute_result",
          "data": {
            "text/html": [
              "<div>\n",
              "<style scoped>\n",
              "    .dataframe tbody tr th:only-of-type {\n",
              "        vertical-align: middle;\n",
              "    }\n",
              "\n",
              "    .dataframe tbody tr th {\n",
              "        vertical-align: top;\n",
              "    }\n",
              "\n",
              "    .dataframe thead th {\n",
              "        text-align: right;\n",
              "    }\n",
              "</style>\n",
              "<table border=\"1\" class=\"dataframe\">\n",
              "  <thead>\n",
              "    <tr style=\"text-align: right;\">\n",
              "      <th></th>\n",
              "      <th>reserve_users</th>\n",
              "      <th>access_users</th>\n",
              "      <th>reserve_rate</th>\n",
              "    </tr>\n",
              "    <tr>\n",
              "      <th>month</th>\n",
              "      <th></th>\n",
              "      <th></th>\n",
              "      <th></th>\n",
              "    </tr>\n",
              "  </thead>\n",
              "  <tbody>\n",
              "    <tr>\n",
              "      <th>1</th>\n",
              "      <td>84</td>\n",
              "      <td>47716</td>\n",
              "      <td>0.001760</td>\n",
              "    </tr>\n",
              "    <tr>\n",
              "      <th>2</th>\n",
              "      <td>148</td>\n",
              "      <td>71938</td>\n",
              "      <td>0.002057</td>\n",
              "    </tr>\n",
              "    <tr>\n",
              "      <th>3</th>\n",
              "      <td>184</td>\n",
              "      <td>80665</td>\n",
              "      <td>0.002281</td>\n",
              "    </tr>\n",
              "    <tr>\n",
              "      <th>4</th>\n",
              "      <td>172</td>\n",
              "      <td>77576</td>\n",
              "      <td>0.002217</td>\n",
              "    </tr>\n",
              "    <tr>\n",
              "      <th>5</th>\n",
              "      <td>195</td>\n",
              "      <td>78061</td>\n",
              "      <td>0.002498</td>\n",
              "    </tr>\n",
              "  </tbody>\n",
              "</table>\n",
              "</div>"
            ],
            "text/plain": [
              "       reserve_users  access_users  reserve_rate\n",
              "month                                           \n",
              "1                 84         47716      0.001760\n",
              "2                148         71938      0.002057\n",
              "3                184         80665      0.002281\n",
              "4                172         77576      0.002217\n",
              "5                195         78061      0.002498"
            ]
          },
          "metadata": {
            "tags": []
          },
          "execution_count": 116
        }
      ]
    },
    {
      "cell_type": "code",
      "metadata": {
        "colab": {
          "base_uri": "https://localhost:8080/",
          "height": 584
        },
        "id": "HVSATUA_Ji0l",
        "outputId": "7ede4cbd-a82d-4747-d3fa-eb2985317116"
      },
      "source": [
        "plt.figure(figsize=(20, 8))\n",
        "plt.subplot(1, 3, 1)\n",
        "plt.title('reservation', fontsize=16)\n",
        "plt.plot(podo_df.index, podo_df['reserve_users'], label='PODO')\n",
        "plt.plot(annex_df.index, annex_df['reserve_users'], label='THEANNEX')\n",
        "plt.xticks(range(1, 6, 1))\n",
        "plt.xlabel('month')\n",
        "plt.ylabel('resev_users')\n",
        "plt.legend(fontsize=14)\n",
        "plt.grid()\n",
        "plt.tight_layout()\n",
        "\n",
        "plt.subplot(1, 3, 2)\n",
        "plt.title('access', fontsize=16)\n",
        "plt.plot(podo_df.index, podo_df['access_users'])\n",
        "plt.xticks(range(1, 6, 1))\n",
        "plt.xlabel('month')\n",
        "plt.ylabel('access_users')\n",
        "plt.grid()\n",
        "plt.tight_layout()\n",
        "\n",
        "plt.subplot(1, 3, 3)\n",
        "plt.title('reservation rate', fontsize=16)\n",
        "plt.plot(podo_df.index, podo_df['reserve_rate'], label='PODO')\n",
        "plt.plot(annex_df.index, annex_df['reserve_rate'], label='THEANNEX')\n",
        "plt.xticks(range(1, 6, 1))\n",
        "plt.xlabel('month')\n",
        "plt.ylabel('reserv_rate')\n",
        "plt.legend(fontsize=14)\n",
        "plt.grid()\n",
        "plt.tight_layout()\n",
        "\n",
        "plt.show()"
      ],
      "execution_count": null,
      "outputs": [
        {
          "output_type": "display_data",
          "data": {
            "image/png": "[encoded data removed]",
            "text/plain": [
              "<Figure size 1440x576 with 3 Axes>"
            ]
          },
          "metadata": {
            "tags": [],
            "needs_background": "light"
          }
        }
      ]
    },
    {
      "cell_type": "markdown",
      "metadata": {
        "id": "mNtlYadyM63O"
      },
      "source": [
        " 1. 접속자 수의 경향과 비슷한 경향을 보이는 호텔 예약자 추이는 디아넥스 호텔로 보임.(접속자수에 따라서 비례하는 듯한 형태)\n",
        " 2. PODO 호텔의 경우 예약자가 꾸준히 증가하고 있는 것으로 보이며, 접속자가 떨어졌어진 3~5월에서도 가장 높은 예약률을 보임\n",
        " 3. 2월 이후부턴 PODO 호텔이 THEANNEX의 예약자 수를 따라잡은 것으로보아 특정 프로모션 혹은 객실 예약 등이 오픈한 이벤트가 있었을 수 있을 것 같음"
      ]
    },
    {
      "cell_type": "markdown",
      "metadata": {
        "id": "si5RmUNnRzqY"
      },
      "source": [
        "# 요일별"
      ]
    },
    {
      "cell_type": "markdown",
      "metadata": {
        "id": "z0h2ZIgfRzqY"
      },
      "source": [
        "## 접속자 현황"
      ]
    },
    {
      "cell_type": "code",
      "metadata": {
        "autoscroll": "auto",
        "id": "u0qX9YcsRzqY"
      },
      "source": [
        "users_num_by_weekday = df.groupby(by='weekday').count()['ip']"
      ],
      "execution_count": null,
      "outputs": []
    },
    {
      "cell_type": "code",
      "metadata": {
        "autoscroll": "auto",
        "id": "efDM5kqQRzqY"
      },
      "source": [
        "weekday_users_num_by_month = df.groupby(by=['month', 'weekday']).count()['ip']"
      ],
      "execution_count": null,
      "outputs": []
    },
    {
      "cell_type": "markdown",
      "metadata": {
        "id": "TZ25xSh5RzqZ"
      },
      "source": [
        "## 접속자 추이"
      ]
    },
    {
      "cell_type": "code",
      "metadata": {
        "autoscroll": "auto",
        "colab": {
          "base_uri": "https://localhost:8080/",
          "height": 584
        },
        "id": "GDwhAghtRzqZ",
        "outputId": "0e884a57-fc4b-4290-d093-8e2770de8ef1"
      },
      "source": [
        "plt.figure(figsize=(10, 8))\n",
        "plt.plot(users_num_by_weekday)\n",
        "plt.xticks(users_num_by_weekday.index, ['Mon', 'Tue', 'Wed', 'Thu', 'Fri', 'Sat', 'Sun'], fontsize=13)\n",
        "plt.tight_layout()\n",
        "plt.show()"
      ],
      "execution_count": null,
      "outputs": [
        {
          "output_type": "display_data",
          "data": {
            "image/png": "[encoded data removed]",
            "text/plain": [
              "<Figure size 720x576 with 1 Axes>"
            ]
          },
          "metadata": {
            "tags": [],
            "needs_background": "light"
          }
        }
      ]
    },
    {
      "cell_type": "code",
      "metadata": {
        "colab": {
          "base_uri": "https://localhost:8080/",
          "height": 263
        },
        "id": "56XvqoFzUTuS",
        "outputId": "2d68ea0c-b818-4b71-942d-3b266dea41b4"
      },
      "source": [
        "weekday_count_by_month = {1: [3, 4, 4, 4, 4, 4, 4],\n",
        "                        2: [4, 4, 4, 4, 4, 4, 4],\n",
        "                        3: [5, 5, 5, 4, 4, 4, 4],\n",
        "                        4: [4, 4, 4, 5, 5, 4, 4],\n",
        "                        5: [5, 4, 4, 4, 4, 5, 5]}\n",
        "\n",
        "weekday_count_df = pd.DataFrame(weekday_count_by_month)\n",
        "weekday_count_df"
      ],
      "execution_count": null,
      "outputs": [
        {
          "output_type": "execute_result",
          "data": {
            "text/html": [
              "<div>\n",
              "<style scoped>\n",
              "    .dataframe tbody tr th:only-of-type {\n",
              "        vertical-align: middle;\n",
              "    }\n",
              "\n",
              "    .dataframe tbody tr th {\n",
              "        vertical-align: top;\n",
              "    }\n",
              "\n",
              "    .dataframe thead th {\n",
              "        text-align: right;\n",
              "    }\n",
              "</style>\n",
              "<table border=\"1\" class=\"dataframe\">\n",
              "  <thead>\n",
              "    <tr style=\"text-align: right;\">\n",
              "      <th></th>\n",
              "      <th>1</th>\n",
              "      <th>2</th>\n",
              "      <th>3</th>\n",
              "      <th>4</th>\n",
              "      <th>5</th>\n",
              "    </tr>\n",
              "  </thead>\n",
              "  <tbody>\n",
              "    <tr>\n",
              "      <th>0</th>\n",
              "      <td>3</td>\n",
              "      <td>4</td>\n",
              "      <td>5</td>\n",
              "      <td>4</td>\n",
              "      <td>5</td>\n",
              "    </tr>\n",
              "    <tr>\n",
              "      <th>1</th>\n",
              "      <td>4</td>\n",
              "      <td>4</td>\n",
              "      <td>5</td>\n",
              "      <td>4</td>\n",
              "      <td>4</td>\n",
              "    </tr>\n",
              "    <tr>\n",
              "      <th>2</th>\n",
              "      <td>4</td>\n",
              "      <td>4</td>\n",
              "      <td>5</td>\n",
              "      <td>4</td>\n",
              "      <td>4</td>\n",
              "    </tr>\n",
              "    <tr>\n",
              "      <th>3</th>\n",
              "      <td>4</td>\n",
              "      <td>4</td>\n",
              "      <td>4</td>\n",
              "      <td>5</td>\n",
              "      <td>4</td>\n",
              "    </tr>\n",
              "    <tr>\n",
              "      <th>4</th>\n",
              "      <td>4</td>\n",
              "      <td>4</td>\n",
              "      <td>4</td>\n",
              "      <td>5</td>\n",
              "      <td>4</td>\n",
              "    </tr>\n",
              "    <tr>\n",
              "      <th>5</th>\n",
              "      <td>4</td>\n",
              "      <td>4</td>\n",
              "      <td>4</td>\n",
              "      <td>4</td>\n",
              "      <td>5</td>\n",
              "    </tr>\n",
              "    <tr>\n",
              "      <th>6</th>\n",
              "      <td>4</td>\n",
              "      <td>4</td>\n",
              "      <td>4</td>\n",
              "      <td>4</td>\n",
              "      <td>5</td>\n",
              "    </tr>\n",
              "  </tbody>\n",
              "</table>\n",
              "</div>"
            ],
            "text/plain": [
              "   1  2  3  4  5\n",
              "0  3  4  5  4  5\n",
              "1  4  4  5  4  4\n",
              "2  4  4  5  4  4\n",
              "3  4  4  4  5  4\n",
              "4  4  4  4  5  4\n",
              "5  4  4  4  4  5\n",
              "6  4  4  4  4  5"
            ]
          },
          "metadata": {
            "tags": []
          },
          "execution_count": 137
        }
      ]
    },
    {
      "cell_type": "code",
      "metadata": {
        "colab": {
          "base_uri": "https://localhost:8080/"
        },
        "id": "vC2lxLeeWLA8",
        "outputId": "a5da30be-991e-4f39-ab4b-0ab78c242e4e"
      },
      "source": [
        "weekday_count_df.sum(axis=1)"
      ],
      "execution_count": null,
      "outputs": [
        {
          "output_type": "execute_result",
          "data": {
            "text/plain": [
              "0    21\n",
              "1    21\n",
              "2    21\n",
              "3    21\n",
              "4    21\n",
              "5    21\n",
              "6    21\n",
              "dtype: int64"
            ]
          },
          "metadata": {
            "tags": []
          },
          "execution_count": 138
        }
      ]
    },
    {
      "cell_type": "markdown",
      "metadata": {
        "id": "8V_5yrXqUQJ6"
      },
      "source": [
        " 1. 01/01-01/04 누락분을 제외하고 ~05/31까지의 요일의 갯수는 모두 각 21개씩으로 동일함\n",
        " 2. 따라서 전체 접속자에 대하여 실제 접속자가 대체로 월요일에 많은 것으로 판단됨"
      ]
    },
    {
      "cell_type": "code",
      "metadata": {
        "autoscroll": "auto",
        "colab": {
          "base_uri": "https://localhost:8080/",
          "height": 485
        },
        "id": "uT3G9iFPRzqZ",
        "outputId": "6873ea91-0aef-4326-d245-3ad196917198"
      },
      "source": [
        "month_ls = list(set([i[0] for i in weekday_users_num_by_month.index]))\n",
        "\n",
        "plt.figure(figsize=(10, 8))\n",
        "for month in month_ls:\n",
        "    plt.plot(weekday_users_num_by_month.loc[(month, )], label=str(month))\n",
        "plt.xticks(users_num_by_weekday.index, ['Mon', 'Tue', 'Wed', 'Thu', 'Fri', 'Sat', 'Sun'], fontsize=13)\n",
        "plt.legend()\n",
        "plt.show()"
      ],
      "execution_count": null,
      "outputs": [
        {
          "output_type": "display_data",
          "data": {
            "image/png": "[encoded data removed]",
            "text/plain": [
              "<Figure size 720x576 with 1 Axes>"
            ]
          },
          "metadata": {
            "tags": [],
            "needs_background": "light"
          }
        }
      ]
    },
    {
      "cell_type": "markdown",
      "metadata": {
        "id": "vRhduE2RaKCt"
      },
      "source": [
        "## 예약자 현황"
      ]
    },
    {
      "cell_type": "code",
      "metadata": {
        "colab": {
          "base_uri": "https://localhost:8080/",
          "height": 294
        },
        "id": "IAXR-rsAbIKP",
        "outputId": "63aa4055-a3a6-466b-bb64-cd3be66a7c53"
      },
      "source": [
        "db_df.groupby('weekday').count()[['reserve_num']]"
      ],
      "execution_count": null,
      "outputs": [
        {
          "output_type": "execute_result",
          "data": {
            "text/html": [
              "<div>\n",
              "<style scoped>\n",
              "    .dataframe tbody tr th:only-of-type {\n",
              "        vertical-align: middle;\n",
              "    }\n",
              "\n",
              "    .dataframe tbody tr th {\n",
              "        vertical-align: top;\n",
              "    }\n",
              "\n",
              "    .dataframe thead th {\n",
              "        text-align: right;\n",
              "    }\n",
              "</style>\n",
              "<table border=\"1\" class=\"dataframe\">\n",
              "  <thead>\n",
              "    <tr style=\"text-align: right;\">\n",
              "      <th></th>\n",
              "      <th>reserve_num</th>\n",
              "    </tr>\n",
              "    <tr>\n",
              "      <th>weekday</th>\n",
              "      <th></th>\n",
              "    </tr>\n",
              "  </thead>\n",
              "  <tbody>\n",
              "    <tr>\n",
              "      <th>0</th>\n",
              "      <td>361</td>\n",
              "    </tr>\n",
              "    <tr>\n",
              "      <th>1</th>\n",
              "      <td>215</td>\n",
              "    </tr>\n",
              "    <tr>\n",
              "      <th>2</th>\n",
              "      <td>197</td>\n",
              "    </tr>\n",
              "    <tr>\n",
              "      <th>3</th>\n",
              "      <td>245</td>\n",
              "    </tr>\n",
              "    <tr>\n",
              "      <th>4</th>\n",
              "      <td>150</td>\n",
              "    </tr>\n",
              "    <tr>\n",
              "      <th>5</th>\n",
              "      <td>283</td>\n",
              "    </tr>\n",
              "    <tr>\n",
              "      <th>6</th>\n",
              "      <td>197</td>\n",
              "    </tr>\n",
              "  </tbody>\n",
              "</table>\n",
              "</div>"
            ],
            "text/plain": [
              "         reserve_num\n",
              "weekday             \n",
              "0                361\n",
              "1                215\n",
              "2                197\n",
              "3                245\n",
              "4                150\n",
              "5                283\n",
              "6                197"
            ]
          },
          "metadata": {
            "tags": []
          },
          "execution_count": 157
        }
      ]
    },
    {
      "cell_type": "code",
      "metadata": {
        "colab": {
          "base_uri": "https://localhost:8080/",
          "height": 296
        },
        "id": "x0FuABWraLzK",
        "outputId": "cc10d9d5-4725-460c-9a79-2d3c0d452aa1"
      },
      "source": [
        "db_df.groupby('weekday').count()['reserve_num'].plot()"
      ],
      "execution_count": null,
      "outputs": [
        {
          "output_type": "execute_result",
          "data": {
            "text/plain": [
              "<matplotlib.axes._subplots.AxesSubplot at 0x7f31c61d3c10>"
            ]
          },
          "metadata": {
            "tags": []
          },
          "execution_count": 154
        },
        {
          "output_type": "display_data",
          "data": {
            "image/png": "[encoded data removed]",
            "text/plain": [
              "<Figure size 432x288 with 1 Axes>"
            ]
          },
          "metadata": {
            "tags": [],
            "needs_background": "light"
          }
        }
      ]
    },
    {
      "cell_type": "markdown",
      "metadata": {
        "id": "SvmF8gara68h"
      },
      "source": [
        " 1. 실제 예약자 수도 월요일에 많이 분포해있음을 알 수 있음"
      ]
    },
    {
      "cell_type": "code",
      "metadata": {
        "colab": {
          "base_uri": "https://localhost:8080/",
          "height": 1000
        },
        "id": "U_mNQMJKX_PA",
        "outputId": "0e23ed2e-4533-45e3-affe-0abfefdf50cf"
      },
      "source": [
        "db_df.groupby(['month', 'weekday']).count()[['reserve_num']]"
      ],
      "execution_count": null,
      "outputs": [
        {
          "output_type": "execute_result",
          "data": {
            "text/html": [
              "<div>\n",
              "<style scoped>\n",
              "    .dataframe tbody tr th:only-of-type {\n",
              "        vertical-align: middle;\n",
              "    }\n",
              "\n",
              "    .dataframe tbody tr th {\n",
              "        vertical-align: top;\n",
              "    }\n",
              "\n",
              "    .dataframe thead th {\n",
              "        text-align: right;\n",
              "    }\n",
              "</style>\n",
              "<table border=\"1\" class=\"dataframe\">\n",
              "  <thead>\n",
              "    <tr style=\"text-align: right;\">\n",
              "      <th></th>\n",
              "      <th></th>\n",
              "      <th>reserve_num</th>\n",
              "    </tr>\n",
              "    <tr>\n",
              "      <th>month</th>\n",
              "      <th>weekday</th>\n",
              "      <th></th>\n",
              "    </tr>\n",
              "  </thead>\n",
              "  <tbody>\n",
              "    <tr>\n",
              "      <th rowspan=\"7\" valign=\"top\">1</th>\n",
              "      <th>0</th>\n",
              "      <td>13</td>\n",
              "    </tr>\n",
              "    <tr>\n",
              "      <th>1</th>\n",
              "      <td>22</td>\n",
              "    </tr>\n",
              "    <tr>\n",
              "      <th>2</th>\n",
              "      <td>16</td>\n",
              "    </tr>\n",
              "    <tr>\n",
              "      <th>3</th>\n",
              "      <td>13</td>\n",
              "    </tr>\n",
              "    <tr>\n",
              "      <th>4</th>\n",
              "      <td>13</td>\n",
              "    </tr>\n",
              "    <tr>\n",
              "      <th>5</th>\n",
              "      <td>17</td>\n",
              "    </tr>\n",
              "    <tr>\n",
              "      <th>6</th>\n",
              "      <td>25</td>\n",
              "    </tr>\n",
              "    <tr>\n",
              "      <th rowspan=\"7\" valign=\"top\">2</th>\n",
              "      <th>0</th>\n",
              "      <td>83</td>\n",
              "    </tr>\n",
              "    <tr>\n",
              "      <th>1</th>\n",
              "      <td>45</td>\n",
              "    </tr>\n",
              "    <tr>\n",
              "      <th>2</th>\n",
              "      <td>40</td>\n",
              "    </tr>\n",
              "    <tr>\n",
              "      <th>3</th>\n",
              "      <td>31</td>\n",
              "    </tr>\n",
              "    <tr>\n",
              "      <th>4</th>\n",
              "      <td>19</td>\n",
              "    </tr>\n",
              "    <tr>\n",
              "      <th>5</th>\n",
              "      <td>27</td>\n",
              "    </tr>\n",
              "    <tr>\n",
              "      <th>6</th>\n",
              "      <td>40</td>\n",
              "    </tr>\n",
              "    <tr>\n",
              "      <th rowspan=\"7\" valign=\"top\">3</th>\n",
              "      <th>0</th>\n",
              "      <td>148</td>\n",
              "    </tr>\n",
              "    <tr>\n",
              "      <th>1</th>\n",
              "      <td>54</td>\n",
              "    </tr>\n",
              "    <tr>\n",
              "      <th>2</th>\n",
              "      <td>58</td>\n",
              "    </tr>\n",
              "    <tr>\n",
              "      <th>3</th>\n",
              "      <td>39</td>\n",
              "    </tr>\n",
              "    <tr>\n",
              "      <th>4</th>\n",
              "      <td>32</td>\n",
              "    </tr>\n",
              "    <tr>\n",
              "      <th>5</th>\n",
              "      <td>28</td>\n",
              "    </tr>\n",
              "    <tr>\n",
              "      <th>6</th>\n",
              "      <td>43</td>\n",
              "    </tr>\n",
              "    <tr>\n",
              "      <th rowspan=\"7\" valign=\"top\">4</th>\n",
              "      <th>0</th>\n",
              "      <td>51</td>\n",
              "    </tr>\n",
              "    <tr>\n",
              "      <th>1</th>\n",
              "      <td>45</td>\n",
              "    </tr>\n",
              "    <tr>\n",
              "      <th>2</th>\n",
              "      <td>41</td>\n",
              "    </tr>\n",
              "    <tr>\n",
              "      <th>3</th>\n",
              "      <td>120</td>\n",
              "    </tr>\n",
              "    <tr>\n",
              "      <th>4</th>\n",
              "      <td>48</td>\n",
              "    </tr>\n",
              "    <tr>\n",
              "      <th>5</th>\n",
              "      <td>47</td>\n",
              "    </tr>\n",
              "    <tr>\n",
              "      <th>6</th>\n",
              "      <td>40</td>\n",
              "    </tr>\n",
              "    <tr>\n",
              "      <th rowspan=\"7\" valign=\"top\">5</th>\n",
              "      <th>0</th>\n",
              "      <td>66</td>\n",
              "    </tr>\n",
              "    <tr>\n",
              "      <th>1</th>\n",
              "      <td>49</td>\n",
              "    </tr>\n",
              "    <tr>\n",
              "      <th>2</th>\n",
              "      <td>42</td>\n",
              "    </tr>\n",
              "    <tr>\n",
              "      <th>3</th>\n",
              "      <td>42</td>\n",
              "    </tr>\n",
              "    <tr>\n",
              "      <th>4</th>\n",
              "      <td>38</td>\n",
              "    </tr>\n",
              "    <tr>\n",
              "      <th>5</th>\n",
              "      <td>164</td>\n",
              "    </tr>\n",
              "    <tr>\n",
              "      <th>6</th>\n",
              "      <td>49</td>\n",
              "    </tr>\n",
              "  </tbody>\n",
              "</table>\n",
              "</div>"
            ],
            "text/plain": [
              "               reserve_num\n",
              "month weekday             \n",
              "1     0                 13\n",
              "      1                 22\n",
              "      2                 16\n",
              "      3                 13\n",
              "      4                 13\n",
              "      5                 17\n",
              "      6                 25\n",
              "2     0                 83\n",
              "      1                 45\n",
              "      2                 40\n",
              "      3                 31\n",
              "      4                 19\n",
              "      5                 27\n",
              "      6                 40\n",
              "3     0                148\n",
              "      1                 54\n",
              "      2                 58\n",
              "      3                 39\n",
              "      4                 32\n",
              "      5                 28\n",
              "      6                 43\n",
              "4     0                 51\n",
              "      1                 45\n",
              "      2                 41\n",
              "      3                120\n",
              "      4                 48\n",
              "      5                 47\n",
              "      6                 40\n",
              "5     0                 66\n",
              "      1                 49\n",
              "      2                 42\n",
              "      3                 42\n",
              "      4                 38\n",
              "      5                164\n",
              "      6                 49"
            ]
          },
          "metadata": {
            "tags": []
          },
          "execution_count": 159
        }
      ]
    },
    {
      "cell_type": "code",
      "metadata": {
        "colab": {
          "base_uri": "https://localhost:8080/",
          "height": 485
        },
        "id": "THEED_LVbZbj",
        "outputId": "dfebf12c-eea9-450f-f498-eabdd075ba14"
      },
      "source": [
        "month_ls = [1, 2, 3, 4, 5]\n",
        "\n",
        "plt.figure(figsize=(10, 8))\n",
        "for month in month_ls:\n",
        "    plt.plot(db_df.groupby(['month', 'weekday']).count()[['reserve_num']].loc[(month, )], label=str(month))\n",
        "plt.xticks(users_num_by_weekday.index, ['Mon', 'Tue', 'Wed', 'Thu', 'Fri', 'Sat', 'Sun'], fontsize=13)\n",
        "plt.legend()\n",
        "plt.show()"
      ],
      "execution_count": null,
      "outputs": [
        {
          "output_type": "display_data",
          "data": {
            "image/png": "[encoded data removed]",
            "text/plain": [
              "<Figure size 720x576 with 1 Axes>"
            ]
          },
          "metadata": {
            "tags": [],
            "needs_background": "light"
          }
        }
      ]
    },
    {
      "cell_type": "markdown",
      "metadata": {
        "id": "LZaPwpVdcDVS"
      },
      "source": [
        "![image.png](data:image/png;base64,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)"
      ]
    },
    {
      "cell_type": "markdown",
      "metadata": {
        "id": "VidDRXhUcF2k"
      },
      "source": [
        " 1. 04/01(목)과 05/01(토) 예약자가 매우 높아진 이유는 상기 사진과 같이 호텔 예약의 경우 Open일정이 있어 해당 Open 일정에 영향을 많이 받는 것으로 추정됨\n",
        " 2. 그 외 월요일에 특히 예약자가 많은 것은 추가 확인이 필요."
      ]
    },
    {
      "cell_type": "markdown",
      "metadata": {
        "id": "5TCkUu-zdCKL"
      },
      "source": [
        "## 호텔별 예약자 추이"
      ]
    },
    {
      "cell_type": "code",
      "metadata": {
        "colab": {
          "base_uri": "https://localhost:8080/"
        },
        "id": "J0gW-nbhdErn",
        "outputId": "b53a401b-6d54-475d-e91f-f249fef7503b"
      },
      "source": [
        "db_df['hotel_name'].value_counts()"
      ],
      "execution_count": null,
      "outputs": [
        {
          "output_type": "execute_result",
          "data": {
            "text/plain": [
              "PODO        865\n",
              "THEANNEX    783\n",
              "Name: hotel_name, dtype: int64"
            ]
          },
          "metadata": {
            "tags": []
          },
          "execution_count": 161
        }
      ]
    },
    {
      "cell_type": "code",
      "metadata": {
        "colab": {
          "base_uri": "https://localhost:8080/",
          "height": 294
        },
        "id": "K_ZhyQONdLOq",
        "outputId": "b4bc92a2-6766-4897-95f6-2f2c08630091"
      },
      "source": [
        "db_df.groupby('weekday').count()[['reserve_num']]"
      ],
      "execution_count": null,
      "outputs": [
        {
          "output_type": "execute_result",
          "data": {
            "text/html": [
              "<div>\n",
              "<style scoped>\n",
              "    .dataframe tbody tr th:only-of-type {\n",
              "        vertical-align: middle;\n",
              "    }\n",
              "\n",
              "    .dataframe tbody tr th {\n",
              "        vertical-align: top;\n",
              "    }\n",
              "\n",
              "    .dataframe thead th {\n",
              "        text-align: right;\n",
              "    }\n",
              "</style>\n",
              "<table border=\"1\" class=\"dataframe\">\n",
              "  <thead>\n",
              "    <tr style=\"text-align: right;\">\n",
              "      <th></th>\n",
              "      <th>reserve_num</th>\n",
              "    </tr>\n",
              "    <tr>\n",
              "      <th>weekday</th>\n",
              "      <th></th>\n",
              "    </tr>\n",
              "  </thead>\n",
              "  <tbody>\n",
              "    <tr>\n",
              "      <th>0</th>\n",
              "      <td>361</td>\n",
              "    </tr>\n",
              "    <tr>\n",
              "      <th>1</th>\n",
              "      <td>215</td>\n",
              "    </tr>\n",
              "    <tr>\n",
              "      <th>2</th>\n",
              "      <td>197</td>\n",
              "    </tr>\n",
              "    <tr>\n",
              "      <th>3</th>\n",
              "      <td>245</td>\n",
              "    </tr>\n",
              "    <tr>\n",
              "      <th>4</th>\n",
              "      <td>150</td>\n",
              "    </tr>\n",
              "    <tr>\n",
              "      <th>5</th>\n",
              "      <td>283</td>\n",
              "    </tr>\n",
              "    <tr>\n",
              "      <th>6</th>\n",
              "      <td>197</td>\n",
              "    </tr>\n",
              "  </tbody>\n",
              "</table>\n",
              "</div>"
            ],
            "text/plain": [
              "         reserve_num\n",
              "weekday             \n",
              "0                361\n",
              "1                215\n",
              "2                197\n",
              "3                245\n",
              "4                150\n",
              "5                283\n",
              "6                197"
            ]
          },
          "metadata": {
            "tags": []
          },
          "execution_count": 163
        }
      ]
    },
    {
      "cell_type": "code",
      "metadata": {
        "colab": {
          "base_uri": "https://localhost:8080/"
        },
        "id": "OORO5myYdLRL",
        "outputId": "0fd8d7cf-1ee4-4e39-88c8-23cc3750770e"
      },
      "source": [
        "_5_1_reserve_num = db_df[(db_df['month'] == 5) & (db_df['day'] == 1)].count()['reserve_num']\n",
        "_5_1_reserve_num"
      ],
      "execution_count": null,
      "outputs": [
        {
          "output_type": "execute_result",
          "data": {
            "text/plain": [
              "141"
            ]
          },
          "metadata": {
            "tags": []
          },
          "execution_count": 169
        }
      ]
    },
    {
      "cell_type": "code",
      "metadata": {
        "colab": {
          "base_uri": "https://localhost:8080/"
        },
        "id": "OdFIQkkYdLTq",
        "outputId": "79980031-6e35-4d31-9660-20b7e3f1187b"
      },
      "source": [
        "sat_reserve_num = db_df[(db_df['weekday'] == 5)].count()['reserve_num']\n",
        "sat_reserve_num"
      ],
      "execution_count": null,
      "outputs": [
        {
          "output_type": "execute_result",
          "data": {
            "text/plain": [
              "283"
            ]
          },
          "metadata": {
            "tags": []
          },
          "execution_count": 170
        }
      ]
    },
    {
      "cell_type": "code",
      "metadata": {
        "colab": {
          "base_uri": "https://localhost:8080/"
        },
        "id": "3yF4U4u7ebha",
        "outputId": "e268e0d2-82d0-4b48-cbf8-44f76695783e"
      },
      "source": [
        "(_5_1_reserve_num / sat_reserve_num) * 100"
      ],
      "execution_count": null,
      "outputs": [
        {
          "output_type": "execute_result",
          "data": {
            "text/plain": [
              "49.82332155477032"
            ]
          },
          "metadata": {
            "tags": []
          },
          "execution_count": 171
        }
      ]
    },
    {
      "cell_type": "markdown",
      "metadata": {
        "id": "MAOzkBy2elNl"
      },
      "source": [
        " 1. 5월 1일(토)에 예약자의 수가 전체 5월의 예약자의 약 49%를 차지하여 토요일의 예약자가 매우 많은 것으로 확인됨\n",
        " 2. 월요일에 가장 많은 이유 추가 확인 필요"
      ]
    },
    {
      "cell_type": "code",
      "metadata": {
        "colab": {
          "base_uri": "https://localhost:8080/",
          "height": 508
        },
        "id": "yfeV9sqNftr0",
        "outputId": "61a73ef8-bcc9-40f9-9bbb-68ddb0e82cca"
      },
      "source": [
        "db_df.groupby(['weekday', 'hotel_name']).count()[['reserve_num']]"
      ],
      "execution_count": null,
      "outputs": [
        {
          "output_type": "execute_result",
          "data": {
            "text/html": [
              "<div>\n",
              "<style scoped>\n",
              "    .dataframe tbody tr th:only-of-type {\n",
              "        vertical-align: middle;\n",
              "    }\n",
              "\n",
              "    .dataframe tbody tr th {\n",
              "        vertical-align: top;\n",
              "    }\n",
              "\n",
              "    .dataframe thead th {\n",
              "        text-align: right;\n",
              "    }\n",
              "</style>\n",
              "<table border=\"1\" class=\"dataframe\">\n",
              "  <thead>\n",
              "    <tr style=\"text-align: right;\">\n",
              "      <th></th>\n",
              "      <th></th>\n",
              "      <th>reserve_num</th>\n",
              "    </tr>\n",
              "    <tr>\n",
              "      <th>weekday</th>\n",
              "      <th>hotel_name</th>\n",
              "      <th></th>\n",
              "    </tr>\n",
              "  </thead>\n",
              "  <tbody>\n",
              "    <tr>\n",
              "      <th rowspan=\"2\" valign=\"top\">0</th>\n",
              "      <th>PODO</th>\n",
              "      <td>211</td>\n",
              "    </tr>\n",
              "    <tr>\n",
              "      <th>THEANNEX</th>\n",
              "      <td>150</td>\n",
              "    </tr>\n",
              "    <tr>\n",
              "      <th rowspan=\"2\" valign=\"top\">1</th>\n",
              "      <th>PODO</th>\n",
              "      <td>92</td>\n",
              "    </tr>\n",
              "    <tr>\n",
              "      <th>THEANNEX</th>\n",
              "      <td>123</td>\n",
              "    </tr>\n",
              "    <tr>\n",
              "      <th rowspan=\"2\" valign=\"top\">2</th>\n",
              "      <th>PODO</th>\n",
              "      <td>77</td>\n",
              "    </tr>\n",
              "    <tr>\n",
              "      <th>THEANNEX</th>\n",
              "      <td>120</td>\n",
              "    </tr>\n",
              "    <tr>\n",
              "      <th rowspan=\"2\" valign=\"top\">3</th>\n",
              "      <th>PODO</th>\n",
              "      <td>152</td>\n",
              "    </tr>\n",
              "    <tr>\n",
              "      <th>THEANNEX</th>\n",
              "      <td>93</td>\n",
              "    </tr>\n",
              "    <tr>\n",
              "      <th rowspan=\"2\" valign=\"top\">4</th>\n",
              "      <th>PODO</th>\n",
              "      <td>65</td>\n",
              "    </tr>\n",
              "    <tr>\n",
              "      <th>THEANNEX</th>\n",
              "      <td>85</td>\n",
              "    </tr>\n",
              "    <tr>\n",
              "      <th rowspan=\"2\" valign=\"top\">5</th>\n",
              "      <th>PODO</th>\n",
              "      <td>185</td>\n",
              "    </tr>\n",
              "    <tr>\n",
              "      <th>THEANNEX</th>\n",
              "      <td>98</td>\n",
              "    </tr>\n",
              "    <tr>\n",
              "      <th rowspan=\"2\" valign=\"top\">6</th>\n",
              "      <th>PODO</th>\n",
              "      <td>83</td>\n",
              "    </tr>\n",
              "    <tr>\n",
              "      <th>THEANNEX</th>\n",
              "      <td>114</td>\n",
              "    </tr>\n",
              "  </tbody>\n",
              "</table>\n",
              "</div>"
            ],
            "text/plain": [
              "                    reserve_num\n",
              "weekday hotel_name             \n",
              "0       PODO                211\n",
              "        THEANNEX            150\n",
              "1       PODO                 92\n",
              "        THEANNEX            123\n",
              "2       PODO                 77\n",
              "        THEANNEX            120\n",
              "3       PODO                152\n",
              "        THEANNEX             93\n",
              "4       PODO                 65\n",
              "        THEANNEX             85\n",
              "5       PODO                185\n",
              "        THEANNEX             98\n",
              "6       PODO                 83\n",
              "        THEANNEX            114"
            ]
          },
          "metadata": {
            "tags": []
          },
          "execution_count": 178
        }
      ]
    },
    {
      "cell_type": "code",
      "metadata": {
        "colab": {
          "base_uri": "https://localhost:8080/",
          "height": 294
        },
        "id": "2hdWE-i3ej2y",
        "outputId": "93c79129-fb0e-46f2-b032-7b85f0eba389"
      },
      "source": [
        "podo_df = pd.DataFrame()\n",
        "podo_df['reserve_users'] = db_df[db_df['hotel_name'] == 'PODO'].groupby('weekday').count()['reserve_num']\n",
        "podo_df['access_users'] = df.groupby('weekday').count()['ip']\n",
        "podo_df['reserve_rate'] = podo_df['reserve_users'] / podo_df['access_users']\n",
        "podo_df"
      ],
      "execution_count": null,
      "outputs": [
        {
          "output_type": "execute_result",
          "data": {
            "text/html": [
              "<div>\n",
              "<style scoped>\n",
              "    .dataframe tbody tr th:only-of-type {\n",
              "        vertical-align: middle;\n",
              "    }\n",
              "\n",
              "    .dataframe tbody tr th {\n",
              "        vertical-align: top;\n",
              "    }\n",
              "\n",
              "    .dataframe thead th {\n",
              "        text-align: right;\n",
              "    }\n",
              "</style>\n",
              "<table border=\"1\" class=\"dataframe\">\n",
              "  <thead>\n",
              "    <tr style=\"text-align: right;\">\n",
              "      <th></th>\n",
              "      <th>reserve_users</th>\n",
              "      <th>access_users</th>\n",
              "      <th>reserve_rate</th>\n",
              "    </tr>\n",
              "    <tr>\n",
              "      <th>weekday</th>\n",
              "      <th></th>\n",
              "      <th></th>\n",
              "      <th></th>\n",
              "    </tr>\n",
              "  </thead>\n",
              "  <tbody>\n",
              "    <tr>\n",
              "      <th>0</th>\n",
              "      <td>211</td>\n",
              "      <td>55721</td>\n",
              "      <td>0.003787</td>\n",
              "    </tr>\n",
              "    <tr>\n",
              "      <th>1</th>\n",
              "      <td>92</td>\n",
              "      <td>55000</td>\n",
              "      <td>0.001673</td>\n",
              "    </tr>\n",
              "    <tr>\n",
              "      <th>2</th>\n",
              "      <td>77</td>\n",
              "      <td>51528</td>\n",
              "      <td>0.001494</td>\n",
              "    </tr>\n",
              "    <tr>\n",
              "      <th>3</th>\n",
              "      <td>152</td>\n",
              "      <td>50001</td>\n",
              "      <td>0.003040</td>\n",
              "    </tr>\n",
              "    <tr>\n",
              "      <th>4</th>\n",
              "      <td>65</td>\n",
              "      <td>47645</td>\n",
              "      <td>0.001364</td>\n",
              "    </tr>\n",
              "    <tr>\n",
              "      <th>5</th>\n",
              "      <td>185</td>\n",
              "      <td>45927</td>\n",
              "      <td>0.004028</td>\n",
              "    </tr>\n",
              "    <tr>\n",
              "      <th>6</th>\n",
              "      <td>83</td>\n",
              "      <td>50134</td>\n",
              "      <td>0.001656</td>\n",
              "    </tr>\n",
              "  </tbody>\n",
              "</table>\n",
              "</div>"
            ],
            "text/plain": [
              "         reserve_users  access_users  reserve_rate\n",
              "weekday                                           \n",
              "0                  211         55721      0.003787\n",
              "1                   92         55000      0.001673\n",
              "2                   77         51528      0.001494\n",
              "3                  152         50001      0.003040\n",
              "4                   65         47645      0.001364\n",
              "5                  185         45927      0.004028\n",
              "6                   83         50134      0.001656"
            ]
          },
          "metadata": {
            "tags": []
          },
          "execution_count": 181
        }
      ]
    },
    {
      "cell_type": "code",
      "metadata": {
        "colab": {
          "base_uri": "https://localhost:8080/",
          "height": 294
        },
        "id": "lQBBJL2xfosv",
        "outputId": "3869b82e-f988-4174-f37f-06481a605b30"
      },
      "source": [
        "annex_df = pd.DataFrame()\n",
        "annex_df['reserve_users'] = db_df[db_df['hotel_name'] == 'THEANNEX'].groupby('weekday').count()['reserve_num']\n",
        "annex_df['access_users'] = df.groupby('weekday').count()['ip']\n",
        "annex_df['reserve_rate'] = annex_df['reserve_users'] / annex_df['access_users']\n",
        "annex_df"
      ],
      "execution_count": null,
      "outputs": [
        {
          "output_type": "execute_result",
          "data": {
            "text/html": [
              "<div>\n",
              "<style scoped>\n",
              "    .dataframe tbody tr th:only-of-type {\n",
              "        vertical-align: middle;\n",
              "    }\n",
              "\n",
              "    .dataframe tbody tr th {\n",
              "        vertical-align: top;\n",
              "    }\n",
              "\n",
              "    .dataframe thead th {\n",
              "        text-align: right;\n",
              "    }\n",
              "</style>\n",
              "<table border=\"1\" class=\"dataframe\">\n",
              "  <thead>\n",
              "    <tr style=\"text-align: right;\">\n",
              "      <th></th>\n",
              "      <th>reserve_users</th>\n",
              "      <th>access_users</th>\n",
              "      <th>reserve_rate</th>\n",
              "    </tr>\n",
              "    <tr>\n",
              "      <th>weekday</th>\n",
              "      <th></th>\n",
              "      <th></th>\n",
              "      <th></th>\n",
              "    </tr>\n",
              "  </thead>\n",
              "  <tbody>\n",
              "    <tr>\n",
              "      <th>0</th>\n",
              "      <td>150</td>\n",
              "      <td>55721</td>\n",
              "      <td>0.002692</td>\n",
              "    </tr>\n",
              "    <tr>\n",
              "      <th>1</th>\n",
              "      <td>123</td>\n",
              "      <td>55000</td>\n",
              "      <td>0.002236</td>\n",
              "    </tr>\n",
              "    <tr>\n",
              "      <th>2</th>\n",
              "      <td>120</td>\n",
              "      <td>51528</td>\n",
              "      <td>0.002329</td>\n",
              "    </tr>\n",
              "    <tr>\n",
              "      <th>3</th>\n",
              "      <td>93</td>\n",
              "      <td>50001</td>\n",
              "      <td>0.001860</td>\n",
              "    </tr>\n",
              "    <tr>\n",
              "      <th>4</th>\n",
              "      <td>85</td>\n",
              "      <td>47645</td>\n",
              "      <td>0.001784</td>\n",
              "    </tr>\n",
              "    <tr>\n",
              "      <th>5</th>\n",
              "      <td>98</td>\n",
              "      <td>45927</td>\n",
              "      <td>0.002134</td>\n",
              "    </tr>\n",
              "    <tr>\n",
              "      <th>6</th>\n",
              "      <td>114</td>\n",
              "      <td>50134</td>\n",
              "      <td>0.002274</td>\n",
              "    </tr>\n",
              "  </tbody>\n",
              "</table>\n",
              "</div>"
            ],
            "text/plain": [
              "         reserve_users  access_users  reserve_rate\n",
              "weekday                                           \n",
              "0                  150         55721      0.002692\n",
              "1                  123         55000      0.002236\n",
              "2                  120         51528      0.002329\n",
              "3                   93         50001      0.001860\n",
              "4                   85         47645      0.001784\n",
              "5                   98         45927      0.002134\n",
              "6                  114         50134      0.002274"
            ]
          },
          "metadata": {
            "tags": []
          },
          "execution_count": 183
        }
      ]
    },
    {
      "cell_type": "code",
      "metadata": {
        "colab": {
          "base_uri": "https://localhost:8080/",
          "height": 584
        },
        "id": "PCrvQ5o4foxK",
        "outputId": "68cc3ca8-cb5e-431b-cb62-c25b3e2d98cc"
      },
      "source": [
        "plt.figure(figsize=(20, 8))\n",
        "plt.subplot(1, 3, 1)\n",
        "plt.title('reservation', fontsize=16)\n",
        "plt.plot(podo_df.index, podo_df['reserve_users'], label='PODO')\n",
        "plt.plot(annex_df.index, annex_df['reserve_users'], label='THEANNEX')\n",
        "plt.xticks(range(0, 7, 1))\n",
        "plt.xlabel('weekday')\n",
        "plt.ylabel('resev_users')\n",
        "plt.legend(fontsize=14)\n",
        "plt.grid()\n",
        "plt.tight_layout()\n",
        "\n",
        "plt.subplot(1, 3, 2)\n",
        "plt.title('access', fontsize=16)\n",
        "plt.plot(podo_df.index, podo_df['access_users'])\n",
        "plt.xticks(range(0, 7, 1))\n",
        "plt.xlabel('weekday')\n",
        "plt.ylabel('access_users')\n",
        "plt.grid()\n",
        "plt.tight_layout()\n",
        "\n",
        "plt.subplot(1, 3, 3)\n",
        "plt.title('reservation rate', fontsize=16)\n",
        "plt.plot(podo_df.index, podo_df['reserve_rate'], label='PODO')\n",
        "plt.plot(annex_df.index, annex_df['reserve_rate'], label='THEANNEX')\n",
        "plt.xticks(range(0, 7, 1))\n",
        "plt.xlabel('weekday')\n",
        "plt.ylabel('reserv_rate')\n",
        "plt.legend(fontsize=14)\n",
        "plt.grid()\n",
        "plt.tight_layout()\n",
        "\n",
        "plt.show()"
      ],
      "execution_count": null,
      "outputs": [
        {
          "output_type": "display_data",
          "data": {
            "image/png": "[encoded data removed]",
            "text/plain": [
              "<Figure size 1440x576 with 3 Axes>"
            ]
          },
          "metadata": {
            "tags": [],
            "needs_background": "light"
          }
        }
      ]
    },
    {
      "cell_type": "markdown",
      "metadata": {
        "id": "AqoDmmjwhi7r"
      },
      "source": [
        " 1. 접속자가 가장 적은 토요일에 가장 많은 예약자가 생김\n",
        " 2. 반면 월요일의 경우 가장 많은 접속자를 가지며, 예약자 수도 많음"
      ]
    },
    {
      "cell_type": "markdown",
      "metadata": {
        "id": "37gloyLIRzqa"
      },
      "source": [
        "# 일별"
      ]
    },
    {
      "cell_type": "markdown",
      "metadata": {
        "id": "WlwwWxtDRzqa"
      },
      "source": [
        "## 접속사 현황"
      ]
    },
    {
      "cell_type": "code",
      "metadata": {
        "autoscroll": "auto",
        "id": "kV9MbLvERzqa"
      },
      "source": [
        "%python\n",
        "daily_users_num = df.groupby(by='day').count()['ip']\n",
        "daily_users_num"
      ],
      "execution_count": null,
      "outputs": []
    },
    {
      "cell_type": "code",
      "metadata": {
        "autoscroll": "auto",
        "id": "msS6nPn4Rzqa"
      },
      "source": [
        "%python\n",
        "daily_users_num_by_month = df.groupby(by=['month', 'day']).count()['ip']\n",
        "daily_users_num_by_month"
      ],
      "execution_count": null,
      "outputs": []
    },
    {
      "cell_type": "markdown",
      "metadata": {
        "id": "Bw1U3vZhRzqa"
      },
      "source": [
        "## 접속자 추이"
      ]
    },
    {
      "cell_type": "code",
      "metadata": {
        "autoscroll": "auto",
        "id": "PnavpXdkRzqa"
      },
      "source": [
        "%python\n",
        "plt.figure(figsize=(10, 8))\n",
        "plt.plot(daily_users_num)\n",
        "plt.grid()\n",
        "plt.show()"
      ],
      "execution_count": null,
      "outputs": []
    },
    {
      "cell_type": "code",
      "metadata": {
        "autoscroll": "auto",
        "id": "fFoQDPQWRzqb"
      },
      "source": [
        "%python\n",
        "plt.figure(figsize=(10, 8))\n",
        "month_ls = list(set([i[0] for i in daily_users_num_by_month.index]))\n",
        "\n",
        "for month in month_ls:\n",
        "    plt.plot(daily_users_num_by_month.loc[(month, )], label=str(month))\n",
        "plt.grid()\n",
        "plt.legend()\n",
        "plt.show()"
      ],
      "execution_count": null,
      "outputs": []
    },
    {
      "cell_type": "markdown",
      "metadata": {
        "id": "JWUP5raHRzqb"
      },
      "source": [
        "# 시간대별"
      ]
    },
    {
      "cell_type": "markdown",
      "metadata": {
        "id": "4SCiRVVqiUaN"
      },
      "source": [
        "## 접속자 현황 및 추이"
      ]
    },
    {
      "cell_type": "code",
      "metadata": {
        "autoscroll": "auto",
        "colab": {
          "base_uri": "https://localhost:8080/",
          "height": 517
        },
        "id": "OTrsda5_Rzqb",
        "outputId": "9933192c-ffa6-4a4a-fea7-f6a30c1f4dc9"
      },
      "source": [
        "plt.figure(figsize=(10,8))\n",
        "df.groupby(by='hour').count()['ip'].plot(kind='bar')"
      ],
      "execution_count": null,
      "outputs": [
        {
          "output_type": "execute_result",
          "data": {
            "text/plain": [
              "<matplotlib.axes._subplots.AxesSubplot at 0x7f31c5c44fd0>"
            ]
          },
          "metadata": {
            "tags": []
          },
          "execution_count": 186
        },
        {
          "output_type": "display_data",
          "data": {
            "image/png": "[encoded data removed]",
            "text/plain": [
              "<Figure size 720x576 with 1 Axes>"
            ]
          },
          "metadata": {
            "tags": [],
            "needs_background": "light"
          }
        }
      ]
    },
    {
      "cell_type": "code",
      "metadata": {
        "autoscroll": "auto",
        "colab": {
          "base_uri": "https://localhost:8080/"
        },
        "id": "me8kpfvnRzqb",
        "outputId": "4f2bef56-92d8-49db-a164-a2bf58592817"
      },
      "source": [
        "(df.groupby(by=['month', 'day', 'hour']).count()['ip']).groupby('hour').mean()"
      ],
      "execution_count": null,
      "outputs": [
        {
          "output_type": "execute_result",
          "data": {
            "text/plain": [
              "hour\n",
              "0     117.482993\n",
              "1      61.823129\n",
              "2      39.394558\n",
              "3      26.210884\n",
              "4      20.761905\n",
              "5      22.306122\n",
              "6      35.176871\n",
              "7      53.442177\n",
              "8      76.408163\n",
              "9     102.278912\n",
              "10    120.619048\n",
              "11    126.224490\n",
              "12    121.510204\n",
              "13    128.312925\n",
              "14    130.666667\n",
              "15    134.843537\n",
              "16    139.612245\n",
              "17    131.265306\n",
              "18    117.537415\n",
              "19    125.931973\n",
              "20    143.986395\n",
              "21    154.972789\n",
              "22    156.959184\n",
              "23    133.741497\n",
              "Name: ip, dtype: float64"
            ]
          },
          "metadata": {
            "tags": []
          },
          "execution_count": 187
        }
      ]
    },
    {
      "cell_type": "code",
      "metadata": {
        "autoscroll": "auto",
        "colab": {
          "base_uri": "https://localhost:8080/",
          "height": 300
        },
        "id": "az1PbCnGRzqb",
        "outputId": "dfaee061-1db6-4ed5-80ef-34ac59a0fd53"
      },
      "source": [
        "(df.groupby(by=['month', 'day', 'hour']).count()['ip']).groupby('hour').mean().plot(kind='bar')"
      ],
      "execution_count": null,
      "outputs": [
        {
          "output_type": "execute_result",
          "data": {
            "text/plain": [
              "<matplotlib.axes._subplots.AxesSubplot at 0x7f31bb21bd10>"
            ]
          },
          "metadata": {
            "tags": []
          },
          "execution_count": 188
        },
        {
          "output_type": "display_data",
          "data": {
            "image/png": "[encoded data removed]",
            "text/plain": [
              "<Figure size 432x288 with 1 Axes>"
            ]
          },
          "metadata": {
            "tags": [],
            "needs_background": "light"
          }
        }
      ]
    },
    {
      "cell_type": "code",
      "metadata": {
        "autoscroll": "auto",
        "colab": {
          "base_uri": "https://localhost:8080/"
        },
        "id": "iG02sj7PRzqb",
        "outputId": "c8d641c5-cb42-4d15-d302-ceeb3384ab11"
      },
      "source": [
        "(df.loc[df['weekday'] == 0].groupby(by=['month', 'day', 'hour']).count()['ip']).groupby('hour').mean()"
      ],
      "execution_count": null,
      "outputs": [
        {
          "output_type": "execute_result",
          "data": {
            "text/plain": [
              "hour\n",
              "0     122.571429\n",
              "1      63.904762\n",
              "2      40.190476\n",
              "3      26.190476\n",
              "4      20.428571\n",
              "5      25.142857\n",
              "6      39.571429\n",
              "7      56.619048\n",
              "8      86.238095\n",
              "9     114.047619\n",
              "10    138.571429\n",
              "11    147.333333\n",
              "12    136.761905\n",
              "13    144.523810\n",
              "14    145.142857\n",
              "15    151.952381\n",
              "16    156.238095\n",
              "17    144.523810\n",
              "18    124.380952\n",
              "19    134.142857\n",
              "20    151.428571\n",
              "21    168.619048\n",
              "22    173.619048\n",
              "23    141.238095\n",
              "Name: ip, dtype: float64"
            ]
          },
          "metadata": {
            "tags": []
          },
          "execution_count": 189
        }
      ]
    },
    {
      "cell_type": "code",
      "metadata": {
        "autoscroll": "auto",
        "colab": {
          "base_uri": "https://localhost:8080/",
          "height": 300
        },
        "id": "lEaxTLu7Rzqb",
        "outputId": "1315b886-ace6-4327-9962-9236b48af0fd"
      },
      "source": [
        "(df.loc[df['weekday'] == 0].groupby(by=['month', 'day', 'hour']).count()['ip']).groupby('hour').mean().plot(kind='bar')"
      ],
      "execution_count": null,
      "outputs": [
        {
          "output_type": "execute_result",
          "data": {
            "text/plain": [
              "<matplotlib.axes._subplots.AxesSubplot at 0x7f31c546e910>"
            ]
          },
          "metadata": {
            "tags": []
          },
          "execution_count": 190
        },
        {
          "output_type": "display_data",
          "data": {
            "image/png": "[encoded data removed]",
            "text/plain": [
              "<Figure size 432x288 with 1 Axes>"
            ]
          },
          "metadata": {
            "tags": [],
            "needs_background": "light"
          }
        }
      ]
    },
    {
      "cell_type": "code",
      "metadata": {
        "autoscroll": "auto",
        "colab": {
          "base_uri": "https://localhost:8080/"
        },
        "id": "aatb-DWFRzqc",
        "outputId": "ab1cd8da-ef6e-4017-b6ad-5e1a2c872df0"
      },
      "source": [
        "(df.loc[df['weekday'] == 5].groupby(by=['month', 'day', 'hour']).count()['ip']).groupby('hour').mean()"
      ],
      "execution_count": null,
      "outputs": [
        {
          "output_type": "execute_result",
          "data": {
            "text/plain": [
              "hour\n",
              "0     109.952381\n",
              "1      62.619048\n",
              "2      38.380952\n",
              "3      26.952381\n",
              "4      20.809524\n",
              "5      23.809524\n",
              "6      32.904762\n",
              "7      50.285714\n",
              "8      67.952381\n",
              "9      85.761905\n",
              "10     94.714286\n",
              "11    107.333333\n",
              "12    101.666667\n",
              "13    107.523810\n",
              "14    113.476190\n",
              "15    118.428571\n",
              "16    120.952381\n",
              "17    119.476190\n",
              "18    110.714286\n",
              "19    122.142857\n",
              "20    142.857143\n",
              "21    145.047619\n",
              "22    136.714286\n",
              "23    126.523810\n",
              "Name: ip, dtype: float64"
            ]
          },
          "metadata": {
            "tags": []
          },
          "execution_count": 191
        }
      ]
    },
    {
      "cell_type": "code",
      "metadata": {
        "autoscroll": "auto",
        "colab": {
          "base_uri": "https://localhost:8080/",
          "height": 300
        },
        "id": "3vrSZjwRRzqc",
        "outputId": "ef005961-7c3b-4710-d3c4-e23d099ada10"
      },
      "source": [
        "(df.loc[df['weekday'] == 5].groupby(by=['month', 'day', 'hour']).count()['ip']).groupby('hour').mean().plot(kind='bar')"
      ],
      "execution_count": null,
      "outputs": [
        {
          "output_type": "execute_result",
          "data": {
            "text/plain": [
              "<matplotlib.axes._subplots.AxesSubplot at 0x7f31c5501210>"
            ]
          },
          "metadata": {
            "tags": []
          },
          "execution_count": 192
        },
        {
          "output_type": "display_data",
          "data": {
            "image/png": "[encoded data removed]",
            "text/plain": [
              "<Figure size 432x288 with 1 Axes>"
            ]
          },
          "metadata": {
            "tags": [],
            "needs_background": "light"
          }
        }
      ]
    },
    {
      "cell_type": "code",
      "metadata": {
        "autoscroll": "auto",
        "colab": {
          "base_uri": "https://localhost:8080/",
          "height": 300
        },
        "id": "cT6u_cG_Rzqc",
        "outputId": "2290ecd1-bb50-4dc9-bb13-c08900b30d22"
      },
      "source": [
        "(df.loc[df['weekday'] == 0].groupby(by=['month', 'day', 'hour']).count()['ip']).groupby('hour').mean().plot(kind='bar')"
      ],
      "execution_count": null,
      "outputs": [
        {
          "output_type": "execute_result",
          "data": {
            "text/plain": [
              "<matplotlib.axes._subplots.AxesSubplot at 0x7f31bb11f210>"
            ]
          },
          "metadata": {
            "tags": []
          },
          "execution_count": 193
        },
        {
          "output_type": "display_data",
          "data": {
            "image/png": "[encoded data removed]",
            "text/plain": [
              "<Figure size 432x288 with 1 Axes>"
            ]
          },
          "metadata": {
            "tags": [],
            "needs_background": "light"
          }
        }
      ]
    },
    {
      "cell_type": "code",
      "metadata": {
        "colab": {
          "base_uri": "https://localhost:8080/",
          "height": 584
        },
        "id": "bGrkag96mO7m",
        "outputId": "eb4deb72-ff6b-4a1d-a0a4-d08624e89a90"
      },
      "source": [
        "plt.figure(figsize=(14, 8))\n",
        "plt.subplot(1, 2, 1)\n",
        "plt.title('reservation')\n",
        "plt.bar((db_df.groupby(['month', 'hour']).count()['reserve_num']).groupby('hour').mean().index, (db_df.groupby(['month', 'hour']).count()['reserve_num']).groupby('hour').mean())\n",
        "plt.xticks(range(0, 24))\n",
        "plt.xlabel('hour')\n",
        "plt.ylabel('reserv_num')\n",
        "\n",
        "plt.subplot(1, 2, 2)\n",
        "plt.title('access')\n",
        "plt.bar((df.groupby(['month', 'hour']).count()['ip']).groupby('hour').mean().index, (df.groupby(['month', 'hour']).count()['ip']).groupby('hour').mean())\n",
        "plt.xticks(range(0, 24))\n",
        "plt.xlabel('hour')\n",
        "plt.ylabel('access_num')\n",
        "plt.tight_layout()\n",
        "plt.show()"
      ],
      "execution_count": null,
      "outputs": [
        {
          "output_type": "display_data",
          "data": {
            "image/png": "[encoded data removed]",
            "text/plain": [
              "<Figure size 1008x576 with 2 Axes>"
            ]
          },
          "metadata": {
            "tags": [],
            "needs_background": "light"
          }
        }
      ]
    },
    {
      "cell_type": "code",
      "metadata": {
        "colab": {
          "base_uri": "https://localhost:8080/",
          "height": 584
        },
        "id": "XvlNg3T4i8cI",
        "outputId": "96c82cf2-999c-4564-d3fa-5624a433b6b3"
      },
      "source": [
        "plt.figure(figsize=(14, 8))\n",
        "plt.subplot(1, 2, 1)\n",
        "plt.title('reservation')\n",
        "plt.bar((db_df.groupby(['month', 'day', 'hour']).count()['reserve_num']).groupby('hour').mean().index, (db_df.groupby(['month', 'day', 'hour']).count()['reserve_num']).groupby('hour').mean())\n",
        "plt.xticks(range(0, 24))\n",
        "plt.xlabel('hour')\n",
        "plt.ylabel('reserv_num')\n",
        "\n",
        "plt.subplot(1, 2, 2)\n",
        "plt.title('access')\n",
        "plt.bar((df.groupby(['month', 'day', 'hour']).count()['ip']).groupby('hour').mean().index, (df.groupby(['month', 'day', 'hour']).count()['ip']).groupby('hour').mean())\n",
        "plt.xticks(range(0, 24))\n",
        "plt.xlabel('hour')\n",
        "plt.ylabel('access_num')\n",
        "plt.tight_layout()\n",
        "plt.show()\n"
      ],
      "execution_count": null,
      "outputs": [
        {
          "output_type": "display_data",
          "data": {
            "image/png": "[encoded data removed]",
            "text/plain": [
              "<Figure size 1008x576 with 2 Axes>"
            ]
          },
          "metadata": {
            "tags": [],
            "needs_background": "light"
          }
        }
      ]
    },
    {
      "cell_type": "markdown",
      "metadata": {
        "id": "AGcShNntkDue"
      },
      "source": [
        " 1. 09시경 일평균/월평균 모두 09시에 가장 높은 예약건을 보여줌\n",
        " 2. 그 외 새벽 시간대에는 가장 낮은 예약건수를 보여줌\n",
        " "
      ]
    },
    {
      "cell_type": "markdown",
      "metadata": {
        "id": "M3AtmWbUpyK3"
      },
      "source": [
        "## 호텔별 예약자 추이"
      ]
    },
    {
      "cell_type": "code",
      "metadata": {
        "colab": {
          "base_uri": "https://localhost:8080/",
          "height": 815
        },
        "id": "IauEtySAi8eb",
        "outputId": "b64f7304-ab50-4b2a-a38a-50aea760d5bb"
      },
      "source": [
        "podo_df = pd.DataFrame()\n",
        "podo_df['reserve_users'] = db_df[db_df['hotel_name'] == 'PODO'].groupby('hour').count()['reserve_num']\n",
        "podo_df['access_users'] = df.groupby('hour').count()['ip']\n",
        "podo_df['reserve_rate'] = podo_df['reserve_users'] / podo_df['access_users']\n",
        "podo_df"
      ],
      "execution_count": null,
      "outputs": [
        {
          "output_type": "execute_result",
          "data": {
            "text/html": [
              "<div>\n",
              "<style scoped>\n",
              "    .dataframe tbody tr th:only-of-type {\n",
              "        vertical-align: middle;\n",
              "    }\n",
              "\n",
              "    .dataframe tbody tr th {\n",
              "        vertical-align: top;\n",
              "    }\n",
              "\n",
              "    .dataframe thead th {\n",
              "        text-align: right;\n",
              "    }\n",
              "</style>\n",
              "<table border=\"1\" class=\"dataframe\">\n",
              "  <thead>\n",
              "    <tr style=\"text-align: right;\">\n",
              "      <th></th>\n",
              "      <th>reserve_users</th>\n",
              "      <th>access_users</th>\n",
              "      <th>reserve_rate</th>\n",
              "    </tr>\n",
              "    <tr>\n",
              "      <th>hour</th>\n",
              "      <th></th>\n",
              "      <th></th>\n",
              "      <th></th>\n",
              "    </tr>\n",
              "  </thead>\n",
              "  <tbody>\n",
              "    <tr>\n",
              "      <th>0</th>\n",
              "      <td>21</td>\n",
              "      <td>17270</td>\n",
              "      <td>0.001216</td>\n",
              "    </tr>\n",
              "    <tr>\n",
              "      <th>1</th>\n",
              "      <td>10</td>\n",
              "      <td>9088</td>\n",
              "      <td>0.001100</td>\n",
              "    </tr>\n",
              "    <tr>\n",
              "      <th>2</th>\n",
              "      <td>5</td>\n",
              "      <td>5791</td>\n",
              "      <td>0.000863</td>\n",
              "    </tr>\n",
              "    <tr>\n",
              "      <th>3</th>\n",
              "      <td>5</td>\n",
              "      <td>3853</td>\n",
              "      <td>0.001298</td>\n",
              "    </tr>\n",
              "    <tr>\n",
              "      <th>4</th>\n",
              "      <td>1</td>\n",
              "      <td>3052</td>\n",
              "      <td>0.000328</td>\n",
              "    </tr>\n",
              "    <tr>\n",
              "      <th>5</th>\n",
              "      <td>1</td>\n",
              "      <td>3279</td>\n",
              "      <td>0.000305</td>\n",
              "    </tr>\n",
              "    <tr>\n",
              "      <th>6</th>\n",
              "      <td>1</td>\n",
              "      <td>5171</td>\n",
              "      <td>0.000193</td>\n",
              "    </tr>\n",
              "    <tr>\n",
              "      <th>7</th>\n",
              "      <td>4</td>\n",
              "      <td>7856</td>\n",
              "      <td>0.000509</td>\n",
              "    </tr>\n",
              "    <tr>\n",
              "      <th>8</th>\n",
              "      <td>15</td>\n",
              "      <td>11232</td>\n",
              "      <td>0.001335</td>\n",
              "    </tr>\n",
              "    <tr>\n",
              "      <th>9</th>\n",
              "      <td>261</td>\n",
              "      <td>15035</td>\n",
              "      <td>0.017359</td>\n",
              "    </tr>\n",
              "    <tr>\n",
              "      <th>10</th>\n",
              "      <td>48</td>\n",
              "      <td>17731</td>\n",
              "      <td>0.002707</td>\n",
              "    </tr>\n",
              "    <tr>\n",
              "      <th>11</th>\n",
              "      <td>49</td>\n",
              "      <td>18555</td>\n",
              "      <td>0.002641</td>\n",
              "    </tr>\n",
              "    <tr>\n",
              "      <th>12</th>\n",
              "      <td>25</td>\n",
              "      <td>17862</td>\n",
              "      <td>0.001400</td>\n",
              "    </tr>\n",
              "    <tr>\n",
              "      <th>13</th>\n",
              "      <td>41</td>\n",
              "      <td>18862</td>\n",
              "      <td>0.002174</td>\n",
              "    </tr>\n",
              "    <tr>\n",
              "      <th>14</th>\n",
              "      <td>40</td>\n",
              "      <td>19208</td>\n",
              "      <td>0.002082</td>\n",
              "    </tr>\n",
              "    <tr>\n",
              "      <th>15</th>\n",
              "      <td>51</td>\n",
              "      <td>19822</td>\n",
              "      <td>0.002573</td>\n",
              "    </tr>\n",
              "    <tr>\n",
              "      <th>16</th>\n",
              "      <td>39</td>\n",
              "      <td>20523</td>\n",
              "      <td>0.001900</td>\n",
              "    </tr>\n",
              "    <tr>\n",
              "      <th>17</th>\n",
              "      <td>27</td>\n",
              "      <td>19296</td>\n",
              "      <td>0.001399</td>\n",
              "    </tr>\n",
              "    <tr>\n",
              "      <th>18</th>\n",
              "      <td>23</td>\n",
              "      <td>17278</td>\n",
              "      <td>0.001331</td>\n",
              "    </tr>\n",
              "    <tr>\n",
              "      <th>19</th>\n",
              "      <td>31</td>\n",
              "      <td>18512</td>\n",
              "      <td>0.001675</td>\n",
              "    </tr>\n",
              "    <tr>\n",
              "      <th>20</th>\n",
              "      <td>48</td>\n",
              "      <td>21166</td>\n",
              "      <td>0.002268</td>\n",
              "    </tr>\n",
              "    <tr>\n",
              "      <th>21</th>\n",
              "      <td>36</td>\n",
              "      <td>22781</td>\n",
              "      <td>0.001580</td>\n",
              "    </tr>\n",
              "    <tr>\n",
              "      <th>22</th>\n",
              "      <td>35</td>\n",
              "      <td>23073</td>\n",
              "      <td>0.001517</td>\n",
              "    </tr>\n",
              "    <tr>\n",
              "      <th>23</th>\n",
              "      <td>48</td>\n",
              "      <td>19660</td>\n",
              "      <td>0.002442</td>\n",
              "    </tr>\n",
              "  </tbody>\n",
              "</table>\n",
              "</div>"
            ],
            "text/plain": [
              "      reserve_users  access_users  reserve_rate\n",
              "hour                                           \n",
              "0                21         17270      0.001216\n",
              "1                10          9088      0.001100\n",
              "2                 5          5791      0.000863\n",
              "3                 5          3853      0.001298\n",
              "4                 1          3052      0.000328\n",
              "5                 1          3279      0.000305\n",
              "6                 1          5171      0.000193\n",
              "7                 4          7856      0.000509\n",
              "8                15         11232      0.001335\n",
              "9               261         15035      0.017359\n",
              "10               48         17731      0.002707\n",
              "11               49         18555      0.002641\n",
              "12               25         17862      0.001400\n",
              "13               41         18862      0.002174\n",
              "14               40         19208      0.002082\n",
              "15               51         19822      0.002573\n",
              "16               39         20523      0.001900\n",
              "17               27         19296      0.001399\n",
              "18               23         17278      0.001331\n",
              "19               31         18512      0.001675\n",
              "20               48         21166      0.002268\n",
              "21               36         22781      0.001580\n",
              "22               35         23073      0.001517\n",
              "23               48         19660      0.002442"
            ]
          },
          "metadata": {
            "tags": []
          },
          "execution_count": 232
        }
      ]
    },
    {
      "cell_type": "code",
      "metadata": {
        "colab": {
          "base_uri": "https://localhost:8080/",
          "height": 784
        },
        "id": "dExnqbrkpzfz",
        "outputId": "5395cb74-214d-405d-b851-7cf90e5af075"
      },
      "source": [
        "annex_df = pd.DataFrame()\n",
        "annex_df['reserve_users'] = db_df[db_df['hotel_name'] == 'THEANNEX'].groupby('hour').count()['reserve_num']\n",
        "annex_df['access_users'] = df.groupby('hour').count()['ip']\n",
        "annex_df['reserve_rate'] = annex_df['reserve_users'] / annex_df['access_users']\n",
        "annex_df"
      ],
      "execution_count": null,
      "outputs": [
        {
          "output_type": "execute_result",
          "data": {
            "text/html": [
              "<div>\n",
              "<style scoped>\n",
              "    .dataframe tbody tr th:only-of-type {\n",
              "        vertical-align: middle;\n",
              "    }\n",
              "\n",
              "    .dataframe tbody tr th {\n",
              "        vertical-align: top;\n",
              "    }\n",
              "\n",
              "    .dataframe thead th {\n",
              "        text-align: right;\n",
              "    }\n",
              "</style>\n",
              "<table border=\"1\" class=\"dataframe\">\n",
              "  <thead>\n",
              "    <tr style=\"text-align: right;\">\n",
              "      <th></th>\n",
              "      <th>reserve_users</th>\n",
              "      <th>access_users</th>\n",
              "      <th>reserve_rate</th>\n",
              "    </tr>\n",
              "    <tr>\n",
              "      <th>hour</th>\n",
              "      <th></th>\n",
              "      <th></th>\n",
              "      <th></th>\n",
              "    </tr>\n",
              "  </thead>\n",
              "  <tbody>\n",
              "    <tr>\n",
              "      <th>0</th>\n",
              "      <td>35</td>\n",
              "      <td>17270</td>\n",
              "      <td>0.002027</td>\n",
              "    </tr>\n",
              "    <tr>\n",
              "      <th>1</th>\n",
              "      <td>18</td>\n",
              "      <td>9088</td>\n",
              "      <td>0.001981</td>\n",
              "    </tr>\n",
              "    <tr>\n",
              "      <th>2</th>\n",
              "      <td>7</td>\n",
              "      <td>5791</td>\n",
              "      <td>0.001209</td>\n",
              "    </tr>\n",
              "    <tr>\n",
              "      <th>3</th>\n",
              "      <td>3</td>\n",
              "      <td>3853</td>\n",
              "      <td>0.000779</td>\n",
              "    </tr>\n",
              "    <tr>\n",
              "      <th>4</th>\n",
              "      <td>2</td>\n",
              "      <td>3052</td>\n",
              "      <td>0.000655</td>\n",
              "    </tr>\n",
              "    <tr>\n",
              "      <th>6</th>\n",
              "      <td>5</td>\n",
              "      <td>5171</td>\n",
              "      <td>0.000967</td>\n",
              "    </tr>\n",
              "    <tr>\n",
              "      <th>7</th>\n",
              "      <td>8</td>\n",
              "      <td>7856</td>\n",
              "      <td>0.001018</td>\n",
              "    </tr>\n",
              "    <tr>\n",
              "      <th>8</th>\n",
              "      <td>11</td>\n",
              "      <td>11232</td>\n",
              "      <td>0.000979</td>\n",
              "    </tr>\n",
              "    <tr>\n",
              "      <th>9</th>\n",
              "      <td>53</td>\n",
              "      <td>15035</td>\n",
              "      <td>0.003525</td>\n",
              "    </tr>\n",
              "    <tr>\n",
              "      <th>10</th>\n",
              "      <td>51</td>\n",
              "      <td>17731</td>\n",
              "      <td>0.002876</td>\n",
              "    </tr>\n",
              "    <tr>\n",
              "      <th>11</th>\n",
              "      <td>56</td>\n",
              "      <td>18555</td>\n",
              "      <td>0.003018</td>\n",
              "    </tr>\n",
              "    <tr>\n",
              "      <th>12</th>\n",
              "      <td>38</td>\n",
              "      <td>17862</td>\n",
              "      <td>0.002127</td>\n",
              "    </tr>\n",
              "    <tr>\n",
              "      <th>13</th>\n",
              "      <td>40</td>\n",
              "      <td>18862</td>\n",
              "      <td>0.002121</td>\n",
              "    </tr>\n",
              "    <tr>\n",
              "      <th>14</th>\n",
              "      <td>54</td>\n",
              "      <td>19208</td>\n",
              "      <td>0.002811</td>\n",
              "    </tr>\n",
              "    <tr>\n",
              "      <th>15</th>\n",
              "      <td>40</td>\n",
              "      <td>19822</td>\n",
              "      <td>0.002018</td>\n",
              "    </tr>\n",
              "    <tr>\n",
              "      <th>16</th>\n",
              "      <td>34</td>\n",
              "      <td>20523</td>\n",
              "      <td>0.001657</td>\n",
              "    </tr>\n",
              "    <tr>\n",
              "      <th>17</th>\n",
              "      <td>55</td>\n",
              "      <td>19296</td>\n",
              "      <td>0.002850</td>\n",
              "    </tr>\n",
              "    <tr>\n",
              "      <th>18</th>\n",
              "      <td>42</td>\n",
              "      <td>17278</td>\n",
              "      <td>0.002431</td>\n",
              "    </tr>\n",
              "    <tr>\n",
              "      <th>19</th>\n",
              "      <td>31</td>\n",
              "      <td>18512</td>\n",
              "      <td>0.001675</td>\n",
              "    </tr>\n",
              "    <tr>\n",
              "      <th>20</th>\n",
              "      <td>40</td>\n",
              "      <td>21166</td>\n",
              "      <td>0.001890</td>\n",
              "    </tr>\n",
              "    <tr>\n",
              "      <th>21</th>\n",
              "      <td>53</td>\n",
              "      <td>22781</td>\n",
              "      <td>0.002327</td>\n",
              "    </tr>\n",
              "    <tr>\n",
              "      <th>22</th>\n",
              "      <td>52</td>\n",
              "      <td>23073</td>\n",
              "      <td>0.002254</td>\n",
              "    </tr>\n",
              "    <tr>\n",
              "      <th>23</th>\n",
              "      <td>55</td>\n",
              "      <td>19660</td>\n",
              "      <td>0.002798</td>\n",
              "    </tr>\n",
              "  </tbody>\n",
              "</table>\n",
              "</div>"
            ],
            "text/plain": [
              "      reserve_users  access_users  reserve_rate\n",
              "hour                                           \n",
              "0                35         17270      0.002027\n",
              "1                18          9088      0.001981\n",
              "2                 7          5791      0.001209\n",
              "3                 3          3853      0.000779\n",
              "4                 2          3052      0.000655\n",
              "6                 5          5171      0.000967\n",
              "7                 8          7856      0.001018\n",
              "8                11         11232      0.000979\n",
              "9                53         15035      0.003525\n",
              "10               51         17731      0.002876\n",
              "11               56         18555      0.003018\n",
              "12               38         17862      0.002127\n",
              "13               40         18862      0.002121\n",
              "14               54         19208      0.002811\n",
              "15               40         19822      0.002018\n",
              "16               34         20523      0.001657\n",
              "17               55         19296      0.002850\n",
              "18               42         17278      0.002431\n",
              "19               31         18512      0.001675\n",
              "20               40         21166      0.001890\n",
              "21               53         22781      0.002327\n",
              "22               52         23073      0.002254\n",
              "23               55         19660      0.002798"
            ]
          },
          "metadata": {
            "tags": []
          },
          "execution_count": 233
        }
      ]
    },
    {
      "cell_type": "code",
      "metadata": {
        "colab": {
          "base_uri": "https://localhost:8080/",
          "height": 584
        },
        "id": "Xjt5YBgOpzi_",
        "outputId": "d7199567-d528-4389-cbfa-0aacb0bd3f44"
      },
      "source": [
        "plt.figure(figsize=(20, 8))\n",
        "plt.subplot(1, 3, 1)\n",
        "plt.title('reservation', fontsize=16)\n",
        "plt.plot(podo_df.index, podo_df['reserve_users'], label='PODO')\n",
        "plt.plot(annex_df.index, annex_df['reserve_users'], label='THEANNEX')\n",
        "plt.xticks(range(24))\n",
        "plt.xlabel('hour')\n",
        "plt.ylabel('resev_users')\n",
        "plt.legend(fontsize=14)\n",
        "plt.grid()\n",
        "plt.tight_layout()\n",
        "\n",
        "plt.subplot(1, 3, 2)\n",
        "plt.title('access', fontsize=16)\n",
        "plt.plot(podo_df.index, podo_df['access_users'])\n",
        "plt.xticks(range(24))\n",
        "plt.xlabel('hour')\n",
        "plt.ylabel('access_users')\n",
        "plt.grid()\n",
        "plt.tight_layout()\n",
        "\n",
        "plt.subplot(1, 3, 3)\n",
        "plt.title('reservation rate', fontsize=16)\n",
        "plt.plot(podo_df.index, podo_df['reserve_rate'], label='PODO')\n",
        "plt.plot(annex_df.index, annex_df['reserve_rate'], label='THEANNEX')\n",
        "plt.xticks(range(24))\n",
        "plt.xlabel('hour')\n",
        "plt.ylabel('reserv_rate')\n",
        "plt.legend(fontsize=14)\n",
        "plt.grid()\n",
        "plt.tight_layout()\n",
        "\n",
        "plt.show()"
      ],
      "execution_count": null,
      "outputs": [
        {
          "output_type": "display_data",
          "data": {
            "image/png": "[encoded data removed]",
            "text/plain": [
              "<Figure size 1440x576 with 3 Axes>"
            ]
          },
          "metadata": {
            "tags": [],
            "needs_background": "light"
          }
        }
      ]
    },
    {
      "cell_type": "markdown",
      "metadata": {
        "id": "NzimqqvzrAfJ"
      },
      "source": [
        " 1. 09시경 예약건수가 늘어나는 이유는 각 예약 Open 시작일시가 09시이기 때문인 것으로 추정됨\n"
      ]
    },
    {
      "cell_type": "code",
      "metadata": {
        "id": "QUdKOvxIsLjY"
      },
      "source": [
        "temp_ = db_df.groupby(['month', 'day', 'hour']).count()[['reserve_num']]"
      ],
      "execution_count": null,
      "outputs": []
    },
    {
      "cell_type": "code",
      "metadata": {
        "colab": {
          "base_uri": "https://localhost:8080/"
        },
        "id": "E1-QSJf5stHR",
        "outputId": "0a13cd3c-b6d7-4db3-a959-bf51168d6b0f"
      },
      "source": [
        "temp_.index"
      ],
      "execution_count": null,
      "outputs": [
        {
          "output_type": "execute_result",
          "data": {
            "text/plain": [
              "MultiIndex([(1,  5, 14),\n",
              "            (1,  5, 15),\n",
              "            (1,  5, 22),\n",
              "            (1,  6,  8),\n",
              "            (1,  7, 22),\n",
              "            (1,  8, 14),\n",
              "            (1,  8, 16),\n",
              "            (1,  8, 23),\n",
              "            (1,  9,  9),\n",
              "            (1,  9, 18),\n",
              "            ...\n",
              "            (5, 29, 11),\n",
              "            (5, 29, 13),\n",
              "            (5, 29, 15),\n",
              "            (5, 29, 16),\n",
              "            (5, 29, 17),\n",
              "            (5, 30,  0),\n",
              "            (5, 30,  9),\n",
              "            (5, 30, 15),\n",
              "            (5, 30, 20),\n",
              "            (5, 30, 22)],\n",
              "           names=['month', 'day', 'hour'], length=977)"
            ]
          },
          "metadata": {
            "tags": []
          },
          "execution_count": 242
        }
      ]
    },
    {
      "cell_type": "code",
      "metadata": {
        "colab": {
          "base_uri": "https://localhost:8080/",
          "height": 232
        },
        "id": "bWUcMxWluZYD",
        "outputId": "fc4c33fc-b43e-465c-fdca-7883471e9144"
      },
      "source": [
        "temp_.head()"
      ],
      "execution_count": null,
      "outputs": [
        {
          "output_type": "execute_result",
          "data": {
            "text/html": [
              "<div>\n",
              "<style scoped>\n",
              "    .dataframe tbody tr th:only-of-type {\n",
              "        vertical-align: middle;\n",
              "    }\n",
              "\n",
              "    .dataframe tbody tr th {\n",
              "        vertical-align: top;\n",
              "    }\n",
              "\n",
              "    .dataframe thead th {\n",
              "        text-align: right;\n",
              "    }\n",
              "</style>\n",
              "<table border=\"1\" class=\"dataframe\">\n",
              "  <thead>\n",
              "    <tr style=\"text-align: right;\">\n",
              "      <th></th>\n",
              "      <th></th>\n",
              "      <th></th>\n",
              "      <th>reserve_num</th>\n",
              "    </tr>\n",
              "    <tr>\n",
              "      <th>month</th>\n",
              "      <th>day</th>\n",
              "      <th>hour</th>\n",
              "      <th></th>\n",
              "    </tr>\n",
              "  </thead>\n",
              "  <tbody>\n",
              "    <tr>\n",
              "      <th rowspan=\"5\" valign=\"top\">1</th>\n",
              "      <th rowspan=\"3\" valign=\"top\">5</th>\n",
              "      <th>14</th>\n",
              "      <td>2</td>\n",
              "    </tr>\n",
              "    <tr>\n",
              "      <th>15</th>\n",
              "      <td>1</td>\n",
              "    </tr>\n",
              "    <tr>\n",
              "      <th>22</th>\n",
              "      <td>1</td>\n",
              "    </tr>\n",
              "    <tr>\n",
              "      <th>6</th>\n",
              "      <th>8</th>\n",
              "      <td>1</td>\n",
              "    </tr>\n",
              "    <tr>\n",
              "      <th>7</th>\n",
              "      <th>22</th>\n",
              "      <td>1</td>\n",
              "    </tr>\n",
              "  </tbody>\n",
              "</table>\n",
              "</div>"
            ],
            "text/plain": [
              "                reserve_num\n",
              "month day hour             \n",
              "1     5   14              2\n",
              "          15              1\n",
              "          22              1\n",
              "      6   8               1\n",
              "      7   22              1"
            ]
          },
          "metadata": {
            "tags": []
          },
          "execution_count": 257
        }
      ]
    },
    {
      "cell_type": "code",
      "metadata": {
        "colab": {
          "base_uri": "https://localhost:8080/",
          "height": 606
        },
        "id": "UvChaDpZsekh",
        "outputId": "769a80ca-c4f8-4e44-8b0a-3d6d57eeef99"
      },
      "source": [
        "plt.figure(figsize=(24, 10))\n",
        "n = 1\n",
        "for month in range(2, 6):\n",
        "    day = 1\n",
        "    plt.subplot(2, 3 ,n)\n",
        "    plt.title('{}/{}'.format(month, day))\n",
        "    plt.bar(temp_.loc[(month, day, ), 'reserve_num'].index, temp_.loc[(month, day, ), 'reserve_num'])\n",
        "    plt.xticks(range(24))\n",
        "    n += 1"
      ],
      "execution_count": null,
      "outputs": [
        {
          "output_type": "display_data",
          "data": {
            "image/png": "[encoded data removed]",
            "text/plain": [
              "<Figure size 1728x720 with 4 Axes>"
            ]
          },
          "metadata": {
            "tags": [],
            "needs_background": "light"
          }
        }
      ]
    },
    {
      "cell_type": "code",
      "metadata": {
        "colab": {
          "base_uri": "https://localhost:8080/",
          "height": 606
        },
        "id": "2LSSYD1Gt4RW",
        "outputId": "79caa19f-c761-4652-a73e-f5c8ed9e796c"
      },
      "source": [
        "plt.figure(figsize=(24, 10))\n",
        "n = 1\n",
        "for month in range(2, 6):\n",
        "    day = 2\n",
        "    plt.subplot(2, 3 ,n)\n",
        "    plt.title('{}/{}'.format(month, day))\n",
        "    plt.bar(temp_.loc[(month, day, ), 'reserve_num'].index, temp_.loc[(month, day, ), 'reserve_num'])\n",
        "    plt.xticks(range(24))\n",
        "    n += 1"
      ],
      "execution_count": null,
      "outputs": [
        {
          "output_type": "display_data",
          "data": {
            "image/png": "[encoded data removed]",
            "text/plain": [
              "<Figure size 1728x720 with 4 Axes>"
            ]
          },
          "metadata": {
            "tags": [],
            "needs_background": "light"
          }
        }
      ]
    },
    {
      "cell_type": "code",
      "metadata": {
        "colab": {
          "base_uri": "https://localhost:8080/",
          "height": 606
        },
        "id": "K-BxqkBRviWy",
        "outputId": "afd12a7a-348a-4162-bcae-e4dd79e6acd4"
      },
      "source": [
        "plt.figure(figsize=(24, 10))\n",
        "n = 1\n",
        "for month in range(2, 6):\n",
        "    day = 3\n",
        "    plt.subplot(2, 3 ,n)\n",
        "    plt.title('{}/{}'.format(month, day))\n",
        "    plt.bar(temp_.loc[(month, day, ), 'reserve_num'].index, temp_.loc[(month, day, ), 'reserve_num'])\n",
        "    plt.xticks(range(24))\n",
        "    n += 1"
      ],
      "execution_count": null,
      "outputs": [
        {
          "output_type": "display_data",
          "data": {
            "image/png": "[encoded data removed]",
            "text/plain": [
              "<Figure size 1728x720 with 4 Axes>"
            ]
          },
          "metadata": {
            "tags": [],
            "needs_background": "light"
          }
        }
      ]
    },
    {
      "cell_type": "markdown",
      "metadata": {
        "id": "eEplRsPJvorf"
      },
      "source": [
        " 1. 매월 1일 Open 시작 일시인 09시에 가장 많은 예약자가 몰리는 것을 확인할 수 있음\n",
        " 2. 즉 매월 1일 09시가 가장 예약자가 많이 발생하는 날임\n",
        " 3. 1~5월까지의 1일자는 각각 (금, 월, 월, 목, 토)로 월요일이 총 2번 몰려있어 월요일에 예약자 분포가 높게 형성되는 것으로 파악됨\n",
        " 4. 결과적으로 현재로서는 예약에 가장 많은 영향을 주는 것은 예약 일정 Open 일로 추정됨"
      ]
    },
    {
      "cell_type": "code",
      "metadata": {
        "id": "8OMb5ijrvwhY"
      },
      "source": [
        ""
      ],
      "execution_count": null,
      "outputs": []
    }
  ]
}